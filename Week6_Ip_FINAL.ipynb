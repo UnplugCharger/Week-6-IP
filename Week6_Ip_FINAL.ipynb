{
  "nbformat": 4,
  "nbformat_minor": 0,
  "metadata": {
    "colab": {
      "name": "Week6 Ip FINAL",
      "provenance": [],
      "collapsed_sections": [],
      "mount_file_id": "1frqYTbo1kVZO19lD5wH5JR24OJ5pJO8R",
      "authorship_tag": "ABX9TyO5b32osjfFlSR6AE/NAjq0",
      "include_colab_link": true
    },
    "kernelspec": {
      "name": "python3",
      "display_name": "Python 3"
    }
  },
  "cells": [
    {
      "cell_type": "markdown",
      "metadata": {
        "id": "view-in-github",
        "colab_type": "text"
      },
      "source": [
        "<a href=\"https://colab.research.google.com/github/UnplugCharger/Week-6-IP/blob/master/Week6_Ip_FINAL.ipynb\" target=\"_parent\"><img src=\"https://colab.research.google.com/assets/colab-badge.svg\" alt=\"Open In Colab\"/></a>"
      ]
    },
    {
      "cell_type": "markdown",
      "metadata": {
        "id": "352WX7dGL7Ug",
        "colab_type": "text"
      },
      "source": [
        "#IMPORTING LIBRARIES"
      ]
    },
    {
      "cell_type": "code",
      "metadata": {
        "id": "-4nQw4H3LdSN",
        "colab_type": "code",
        "colab": {
          "base_uri": "https://localhost:8080/",
          "height": 51
        },
        "outputId": "222d03db-5017-4bd6-aad5-f6dce74b02bf"
      },
      "source": [
        "import pandas as pd\n",
        "import numpy as np\n",
        "import seaborn as sns"
      ],
      "execution_count": 3,
      "outputs": [
        {
          "output_type": "stream",
          "text": [
            "/usr/local/lib/python3.6/dist-packages/statsmodels/tools/_testing.py:19: FutureWarning: pandas.util.testing is deprecated. Use the functions in the public API at pandas.testing instead.\n",
            "  import pandas.util.testing as tm\n"
          ],
          "name": "stderr"
        }
      ]
    },
    {
      "cell_type": "markdown",
      "metadata": {
        "id": "M19AOyQYMBq8",
        "colab_type": "text"
      },
      "source": [
        "#INITIAL LOOK INTO OUR DATA "
      ]
    },
    {
      "cell_type": "markdown",
      "metadata": {
        "id": "_SBDz0LrMGxr",
        "colab_type": "text"
      },
      "source": [
        "**Importing or datasets**"
      ]
    },
    {
      "cell_type": "code",
      "metadata": {
        "id": "SQso_mplMSPM",
        "colab_type": "code",
        "colab": {}
      },
      "source": [
        "results=pd.read_csv('/content/drive/My Drive/Core Datasets/results.csv')\n",
        "fifa=pd.read_csv('/content/drive/My Drive/Core Datasets/fifa_ranking.csv')"
      ],
      "execution_count": null,
      "outputs": []
    },
    {
      "cell_type": "code",
      "metadata": {
        "id": "DFQFMdKCMY6f",
        "colab_type": "code",
        "colab": {}
      },
      "source": [
        "def sniff(df):\n",
        "    with pd.option_context(\"display.max_colwidth\", 20):\n",
        "        info = pd.DataFrame()\n",
        "        info['sample'] = df.iloc[0]\n",
        "        info['data type'] = df.dtypes\n",
        "        info['percent duplicated'] = df.duplicated().sum()*100/len(df)\n",
        "        info['percent missing'] = df.isnull().sum()*100/len(df)\n",
        "        return info.sort_values('data type')"
      ],
      "execution_count": null,
      "outputs": []
    },
    {
      "cell_type": "code",
      "metadata": {
        "id": "bhj-pQPyMsOC",
        "colab_type": "code",
        "colab": {
          "base_uri": "https://localhost:8080/",
          "height": 328
        },
        "outputId": "9716a464-2368-4e84-a629-e607ea5f339e"
      },
      "source": [
        "sniff(results)"
      ],
      "execution_count": null,
      "outputs": [
        {
          "output_type": "execute_result",
          "data": {
            "text/html": [
              "<div>\n",
              "<style scoped>\n",
              "    .dataframe tbody tr th:only-of-type {\n",
              "        vertical-align: middle;\n",
              "    }\n",
              "\n",
              "    .dataframe tbody tr th {\n",
              "        vertical-align: top;\n",
              "    }\n",
              "\n",
              "    .dataframe thead th {\n",
              "        text-align: right;\n",
              "    }\n",
              "</style>\n",
              "<table border=\"1\" class=\"dataframe\">\n",
              "  <thead>\n",
              "    <tr style=\"text-align: right;\">\n",
              "      <th></th>\n",
              "      <th>sample</th>\n",
              "      <th>data type</th>\n",
              "      <th>percent duplicated</th>\n",
              "      <th>percent missing</th>\n",
              "    </tr>\n",
              "  </thead>\n",
              "  <tbody>\n",
              "    <tr>\n",
              "      <th>neutral</th>\n",
              "      <td>False</td>\n",
              "      <td>bool</td>\n",
              "      <td>0.0</td>\n",
              "      <td>0.0</td>\n",
              "    </tr>\n",
              "    <tr>\n",
              "      <th>home_score</th>\n",
              "      <td>0</td>\n",
              "      <td>int64</td>\n",
              "      <td>0.0</td>\n",
              "      <td>0.0</td>\n",
              "    </tr>\n",
              "    <tr>\n",
              "      <th>away_score</th>\n",
              "      <td>0</td>\n",
              "      <td>int64</td>\n",
              "      <td>0.0</td>\n",
              "      <td>0.0</td>\n",
              "    </tr>\n",
              "    <tr>\n",
              "      <th>date</th>\n",
              "      <td>1872-11-30</td>\n",
              "      <td>object</td>\n",
              "      <td>0.0</td>\n",
              "      <td>0.0</td>\n",
              "    </tr>\n",
              "    <tr>\n",
              "      <th>home_team</th>\n",
              "      <td>Scotland</td>\n",
              "      <td>object</td>\n",
              "      <td>0.0</td>\n",
              "      <td>0.0</td>\n",
              "    </tr>\n",
              "    <tr>\n",
              "      <th>away_team</th>\n",
              "      <td>England</td>\n",
              "      <td>object</td>\n",
              "      <td>0.0</td>\n",
              "      <td>0.0</td>\n",
              "    </tr>\n",
              "    <tr>\n",
              "      <th>tournament</th>\n",
              "      <td>Friendly</td>\n",
              "      <td>object</td>\n",
              "      <td>0.0</td>\n",
              "      <td>0.0</td>\n",
              "    </tr>\n",
              "    <tr>\n",
              "      <th>city</th>\n",
              "      <td>Glasgow</td>\n",
              "      <td>object</td>\n",
              "      <td>0.0</td>\n",
              "      <td>0.0</td>\n",
              "    </tr>\n",
              "    <tr>\n",
              "      <th>country</th>\n",
              "      <td>Scotland</td>\n",
              "      <td>object</td>\n",
              "      <td>0.0</td>\n",
              "      <td>0.0</td>\n",
              "    </tr>\n",
              "  </tbody>\n",
              "</table>\n",
              "</div>"
            ],
            "text/plain": [
              "                sample data type  percent duplicated  percent missing\n",
              "neutral          False      bool                 0.0              0.0\n",
              "home_score           0     int64                 0.0              0.0\n",
              "away_score           0     int64                 0.0              0.0\n",
              "date        1872-11-30    object                 0.0              0.0\n",
              "home_team     Scotland    object                 0.0              0.0\n",
              "away_team      England    object                 0.0              0.0\n",
              "tournament    Friendly    object                 0.0              0.0\n",
              "city           Glasgow    object                 0.0              0.0\n",
              "country       Scotland    object                 0.0              0.0"
            ]
          },
          "metadata": {
            "tags": []
          },
          "execution_count": 5
        }
      ]
    },
    {
      "cell_type": "code",
      "metadata": {
        "id": "sfwwTZvkMvH_",
        "colab_type": "code",
        "colab": {
          "base_uri": "https://localhost:8080/",
          "height": 545
        },
        "outputId": "ddb8e134-e321-4b04-d0f0-79694abb3701"
      },
      "source": [
        "sniff(fifa)"
      ],
      "execution_count": null,
      "outputs": [
        {
          "output_type": "execute_result",
          "data": {
            "text/html": [
              "<div>\n",
              "<style scoped>\n",
              "    .dataframe tbody tr th:only-of-type {\n",
              "        vertical-align: middle;\n",
              "    }\n",
              "\n",
              "    .dataframe tbody tr th {\n",
              "        vertical-align: top;\n",
              "    }\n",
              "\n",
              "    .dataframe thead th {\n",
              "        text-align: right;\n",
              "    }\n",
              "</style>\n",
              "<table border=\"1\" class=\"dataframe\">\n",
              "  <thead>\n",
              "    <tr style=\"text-align: right;\">\n",
              "      <th></th>\n",
              "      <th>sample</th>\n",
              "      <th>data type</th>\n",
              "      <th>percent duplicated</th>\n",
              "      <th>percent missing</th>\n",
              "    </tr>\n",
              "  </thead>\n",
              "  <tbody>\n",
              "    <tr>\n",
              "      <th>rank</th>\n",
              "      <td>1</td>\n",
              "      <td>int64</td>\n",
              "      <td>0.064022</td>\n",
              "      <td>0.0</td>\n",
              "    </tr>\n",
              "    <tr>\n",
              "      <th>previous_points</th>\n",
              "      <td>57</td>\n",
              "      <td>int64</td>\n",
              "      <td>0.064022</td>\n",
              "      <td>0.0</td>\n",
              "    </tr>\n",
              "    <tr>\n",
              "      <th>rank_change</th>\n",
              "      <td>0</td>\n",
              "      <td>int64</td>\n",
              "      <td>0.064022</td>\n",
              "      <td>0.0</td>\n",
              "    </tr>\n",
              "    <tr>\n",
              "      <th>total_points</th>\n",
              "      <td>0</td>\n",
              "      <td>float64</td>\n",
              "      <td>0.064022</td>\n",
              "      <td>0.0</td>\n",
              "    </tr>\n",
              "    <tr>\n",
              "      <th>cur_year_avg</th>\n",
              "      <td>0</td>\n",
              "      <td>float64</td>\n",
              "      <td>0.064022</td>\n",
              "      <td>0.0</td>\n",
              "    </tr>\n",
              "    <tr>\n",
              "      <th>cur_year_avg_weighted</th>\n",
              "      <td>0</td>\n",
              "      <td>float64</td>\n",
              "      <td>0.064022</td>\n",
              "      <td>0.0</td>\n",
              "    </tr>\n",
              "    <tr>\n",
              "      <th>last_year_avg</th>\n",
              "      <td>0</td>\n",
              "      <td>float64</td>\n",
              "      <td>0.064022</td>\n",
              "      <td>0.0</td>\n",
              "    </tr>\n",
              "    <tr>\n",
              "      <th>last_year_avg_weighted</th>\n",
              "      <td>0</td>\n",
              "      <td>float64</td>\n",
              "      <td>0.064022</td>\n",
              "      <td>0.0</td>\n",
              "    </tr>\n",
              "    <tr>\n",
              "      <th>two_year_ago_avg</th>\n",
              "      <td>0</td>\n",
              "      <td>float64</td>\n",
              "      <td>0.064022</td>\n",
              "      <td>0.0</td>\n",
              "    </tr>\n",
              "    <tr>\n",
              "      <th>two_year_ago_weighted</th>\n",
              "      <td>0</td>\n",
              "      <td>float64</td>\n",
              "      <td>0.064022</td>\n",
              "      <td>0.0</td>\n",
              "    </tr>\n",
              "    <tr>\n",
              "      <th>three_year_ago_avg</th>\n",
              "      <td>0</td>\n",
              "      <td>float64</td>\n",
              "      <td>0.064022</td>\n",
              "      <td>0.0</td>\n",
              "    </tr>\n",
              "    <tr>\n",
              "      <th>three_year_ago_weighted</th>\n",
              "      <td>0</td>\n",
              "      <td>float64</td>\n",
              "      <td>0.064022</td>\n",
              "      <td>0.0</td>\n",
              "    </tr>\n",
              "    <tr>\n",
              "      <th>country_full</th>\n",
              "      <td>Germany</td>\n",
              "      <td>object</td>\n",
              "      <td>0.064022</td>\n",
              "      <td>0.0</td>\n",
              "    </tr>\n",
              "    <tr>\n",
              "      <th>country_abrv</th>\n",
              "      <td>GER</td>\n",
              "      <td>object</td>\n",
              "      <td>0.064022</td>\n",
              "      <td>0.0</td>\n",
              "    </tr>\n",
              "    <tr>\n",
              "      <th>confederation</th>\n",
              "      <td>UEFA</td>\n",
              "      <td>object</td>\n",
              "      <td>0.064022</td>\n",
              "      <td>0.0</td>\n",
              "    </tr>\n",
              "    <tr>\n",
              "      <th>rank_date</th>\n",
              "      <td>1993-08-08</td>\n",
              "      <td>object</td>\n",
              "      <td>0.064022</td>\n",
              "      <td>0.0</td>\n",
              "    </tr>\n",
              "  </tbody>\n",
              "</table>\n",
              "</div>"
            ],
            "text/plain": [
              "                             sample  ... percent missing\n",
              "rank                              1  ...             0.0\n",
              "previous_points                  57  ...             0.0\n",
              "rank_change                       0  ...             0.0\n",
              "total_points                      0  ...             0.0\n",
              "cur_year_avg                      0  ...             0.0\n",
              "cur_year_avg_weighted             0  ...             0.0\n",
              "last_year_avg                     0  ...             0.0\n",
              "last_year_avg_weighted            0  ...             0.0\n",
              "two_year_ago_avg                  0  ...             0.0\n",
              "two_year_ago_weighted             0  ...             0.0\n",
              "three_year_ago_avg                0  ...             0.0\n",
              "three_year_ago_weighted           0  ...             0.0\n",
              "country_full                Germany  ...             0.0\n",
              "country_abrv                    GER  ...             0.0\n",
              "confederation                  UEFA  ...             0.0\n",
              "rank_date                1993-08-08  ...             0.0\n",
              "\n",
              "[16 rows x 4 columns]"
            ]
          },
          "metadata": {
            "tags": []
          },
          "execution_count": 6
        }
      ]
    },
    {
      "cell_type": "markdown",
      "metadata": {
        "id": "Vrsel2s4NAnk",
        "colab_type": "text"
      },
      "source": [
        "From the above ... we have no duplicates and null values in the Results dataset . \n",
        "We have  no null values on the fifa dataset  but we have  0.06402 % duplicated values\n",
        "\n",
        "We are goin to drop these values in our next step"
      ]
    },
    {
      "cell_type": "markdown",
      "metadata": {
        "id": "l6NR4cWTNqbc",
        "colab_type": "text"
      },
      "source": [
        "#DATA CLEANING"
      ]
    },
    {
      "cell_type": "code",
      "metadata": {
        "id": "sidRpqJkMzv8",
        "colab_type": "code",
        "colab": {
          "base_uri": "https://localhost:8080/",
          "height": 297
        },
        "outputId": "34683dfc-2ecf-4d95-e5e2-e93739fead63"
      },
      "source": [
        "results.describe()"
      ],
      "execution_count": null,
      "outputs": [
        {
          "output_type": "execute_result",
          "data": {
            "text/html": [
              "<div>\n",
              "<style scoped>\n",
              "    .dataframe tbody tr th:only-of-type {\n",
              "        vertical-align: middle;\n",
              "    }\n",
              "\n",
              "    .dataframe tbody tr th {\n",
              "        vertical-align: top;\n",
              "    }\n",
              "\n",
              "    .dataframe thead th {\n",
              "        text-align: right;\n",
              "    }\n",
              "</style>\n",
              "<table border=\"1\" class=\"dataframe\">\n",
              "  <thead>\n",
              "    <tr style=\"text-align: right;\">\n",
              "      <th></th>\n",
              "      <th>home_score</th>\n",
              "      <th>away_score</th>\n",
              "    </tr>\n",
              "  </thead>\n",
              "  <tbody>\n",
              "    <tr>\n",
              "      <th>count</th>\n",
              "      <td>40839.000000</td>\n",
              "      <td>40839.000000</td>\n",
              "    </tr>\n",
              "    <tr>\n",
              "      <th>mean</th>\n",
              "      <td>1.745709</td>\n",
              "      <td>1.188105</td>\n",
              "    </tr>\n",
              "    <tr>\n",
              "      <th>std</th>\n",
              "      <td>1.749145</td>\n",
              "      <td>1.405120</td>\n",
              "    </tr>\n",
              "    <tr>\n",
              "      <th>min</th>\n",
              "      <td>0.000000</td>\n",
              "      <td>0.000000</td>\n",
              "    </tr>\n",
              "    <tr>\n",
              "      <th>25%</th>\n",
              "      <td>1.000000</td>\n",
              "      <td>0.000000</td>\n",
              "    </tr>\n",
              "    <tr>\n",
              "      <th>50%</th>\n",
              "      <td>1.000000</td>\n",
              "      <td>1.000000</td>\n",
              "    </tr>\n",
              "    <tr>\n",
              "      <th>75%</th>\n",
              "      <td>2.000000</td>\n",
              "      <td>2.000000</td>\n",
              "    </tr>\n",
              "    <tr>\n",
              "      <th>max</th>\n",
              "      <td>31.000000</td>\n",
              "      <td>21.000000</td>\n",
              "    </tr>\n",
              "  </tbody>\n",
              "</table>\n",
              "</div>"
            ],
            "text/plain": [
              "         home_score    away_score\n",
              "count  40839.000000  40839.000000\n",
              "mean       1.745709      1.188105\n",
              "std        1.749145      1.405120\n",
              "min        0.000000      0.000000\n",
              "25%        1.000000      0.000000\n",
              "50%        1.000000      1.000000\n",
              "75%        2.000000      2.000000\n",
              "max       31.000000     21.000000"
            ]
          },
          "metadata": {
            "tags": []
          },
          "execution_count": 7
        }
      ]
    },
    {
      "cell_type": "code",
      "metadata": {
        "id": "Nr68Se-BNyQP",
        "colab_type": "code",
        "colab": {
          "base_uri": "https://localhost:8080/",
          "height": 317
        },
        "outputId": "bb1db42c-8b87-4819-fe34-a7124a651d09"
      },
      "source": [
        "fifa.describe()"
      ],
      "execution_count": null,
      "outputs": [
        {
          "output_type": "execute_result",
          "data": {
            "text/html": [
              "<div>\n",
              "<style scoped>\n",
              "    .dataframe tbody tr th:only-of-type {\n",
              "        vertical-align: middle;\n",
              "    }\n",
              "\n",
              "    .dataframe tbody tr th {\n",
              "        vertical-align: top;\n",
              "    }\n",
              "\n",
              "    .dataframe thead th {\n",
              "        text-align: right;\n",
              "    }\n",
              "</style>\n",
              "<table border=\"1\" class=\"dataframe\">\n",
              "  <thead>\n",
              "    <tr style=\"text-align: right;\">\n",
              "      <th></th>\n",
              "      <th>rank</th>\n",
              "      <th>total_points</th>\n",
              "      <th>previous_points</th>\n",
              "      <th>rank_change</th>\n",
              "      <th>cur_year_avg</th>\n",
              "      <th>cur_year_avg_weighted</th>\n",
              "      <th>last_year_avg</th>\n",
              "      <th>last_year_avg_weighted</th>\n",
              "      <th>two_year_ago_avg</th>\n",
              "      <th>two_year_ago_weighted</th>\n",
              "      <th>three_year_ago_avg</th>\n",
              "      <th>three_year_ago_weighted</th>\n",
              "    </tr>\n",
              "  </thead>\n",
              "  <tbody>\n",
              "    <tr>\n",
              "      <th>count</th>\n",
              "      <td>57793.000000</td>\n",
              "      <td>57793.000000</td>\n",
              "      <td>57793.000000</td>\n",
              "      <td>57793.000000</td>\n",
              "      <td>57793.000000</td>\n",
              "      <td>57793.000000</td>\n",
              "      <td>57793.000000</td>\n",
              "      <td>57793.000000</td>\n",
              "      <td>57793.000000</td>\n",
              "      <td>57793.000000</td>\n",
              "      <td>57793.000000</td>\n",
              "      <td>57793.000000</td>\n",
              "    </tr>\n",
              "    <tr>\n",
              "      <th>mean</th>\n",
              "      <td>101.628086</td>\n",
              "      <td>122.068637</td>\n",
              "      <td>332.302926</td>\n",
              "      <td>-0.009897</td>\n",
              "      <td>61.798602</td>\n",
              "      <td>61.798602</td>\n",
              "      <td>61.004602</td>\n",
              "      <td>30.502377</td>\n",
              "      <td>59.777462</td>\n",
              "      <td>17.933277</td>\n",
              "      <td>59.173916</td>\n",
              "      <td>11.834811</td>\n",
              "    </tr>\n",
              "    <tr>\n",
              "      <th>std</th>\n",
              "      <td>58.618424</td>\n",
              "      <td>260.426863</td>\n",
              "      <td>302.872948</td>\n",
              "      <td>5.804309</td>\n",
              "      <td>138.014883</td>\n",
              "      <td>138.014883</td>\n",
              "      <td>137.688204</td>\n",
              "      <td>68.844143</td>\n",
              "      <td>136.296079</td>\n",
              "      <td>40.888849</td>\n",
              "      <td>135.533343</td>\n",
              "      <td>27.106675</td>\n",
              "    </tr>\n",
              "    <tr>\n",
              "      <th>min</th>\n",
              "      <td>1.000000</td>\n",
              "      <td>0.000000</td>\n",
              "      <td>0.000000</td>\n",
              "      <td>-72.000000</td>\n",
              "      <td>0.000000</td>\n",
              "      <td>0.000000</td>\n",
              "      <td>0.000000</td>\n",
              "      <td>0.000000</td>\n",
              "      <td>0.000000</td>\n",
              "      <td>0.000000</td>\n",
              "      <td>0.000000</td>\n",
              "      <td>0.000000</td>\n",
              "    </tr>\n",
              "    <tr>\n",
              "      <th>25%</th>\n",
              "      <td>51.000000</td>\n",
              "      <td>0.000000</td>\n",
              "      <td>56.000000</td>\n",
              "      <td>-2.000000</td>\n",
              "      <td>0.000000</td>\n",
              "      <td>0.000000</td>\n",
              "      <td>0.000000</td>\n",
              "      <td>0.000000</td>\n",
              "      <td>0.000000</td>\n",
              "      <td>0.000000</td>\n",
              "      <td>0.000000</td>\n",
              "      <td>0.000000</td>\n",
              "    </tr>\n",
              "    <tr>\n",
              "      <th>50%</th>\n",
              "      <td>101.000000</td>\n",
              "      <td>0.000000</td>\n",
              "      <td>272.000000</td>\n",
              "      <td>0.000000</td>\n",
              "      <td>0.000000</td>\n",
              "      <td>0.000000</td>\n",
              "      <td>0.000000</td>\n",
              "      <td>0.000000</td>\n",
              "      <td>0.000000</td>\n",
              "      <td>0.000000</td>\n",
              "      <td>0.000000</td>\n",
              "      <td>0.000000</td>\n",
              "    </tr>\n",
              "    <tr>\n",
              "      <th>75%</th>\n",
              "      <td>152.000000</td>\n",
              "      <td>92.790000</td>\n",
              "      <td>525.000000</td>\n",
              "      <td>1.000000</td>\n",
              "      <td>32.250000</td>\n",
              "      <td>32.250000</td>\n",
              "      <td>26.660000</td>\n",
              "      <td>13.330000</td>\n",
              "      <td>21.500000</td>\n",
              "      <td>6.450000</td>\n",
              "      <td>21.250000</td>\n",
              "      <td>4.250000</td>\n",
              "    </tr>\n",
              "    <tr>\n",
              "      <th>max</th>\n",
              "      <td>209.000000</td>\n",
              "      <td>1775.030000</td>\n",
              "      <td>1920.000000</td>\n",
              "      <td>92.000000</td>\n",
              "      <td>1158.660000</td>\n",
              "      <td>1158.660000</td>\n",
              "      <td>1169.570000</td>\n",
              "      <td>584.790000</td>\n",
              "      <td>1159.710000</td>\n",
              "      <td>347.910000</td>\n",
              "      <td>1200.770000</td>\n",
              "      <td>240.150000</td>\n",
              "    </tr>\n",
              "  </tbody>\n",
              "</table>\n",
              "</div>"
            ],
            "text/plain": [
              "               rank  total_points  ...  three_year_ago_avg  three_year_ago_weighted\n",
              "count  57793.000000  57793.000000  ...        57793.000000             57793.000000\n",
              "mean     101.628086    122.068637  ...           59.173916                11.834811\n",
              "std       58.618424    260.426863  ...          135.533343                27.106675\n",
              "min        1.000000      0.000000  ...            0.000000                 0.000000\n",
              "25%       51.000000      0.000000  ...            0.000000                 0.000000\n",
              "50%      101.000000      0.000000  ...            0.000000                 0.000000\n",
              "75%      152.000000     92.790000  ...           21.250000                 4.250000\n",
              "max      209.000000   1775.030000  ...         1200.770000               240.150000\n",
              "\n",
              "[8 rows x 12 columns]"
            ]
          },
          "metadata": {
            "tags": []
          },
          "execution_count": 8
        }
      ]
    },
    {
      "cell_type": "markdown",
      "metadata": {
        "id": "sk9l_PPfOZ1O",
        "colab_type": "text"
      },
      "source": [
        "From the above we can see some values like the maximum home team goal of 31. That is very posible in football but rarely occurs  in football and we are going to drop them \n",
        "\n",
        "we also see that the away score has a maximum of 21 ... this can happen in football but we are going to drop them as it rarely occurs"
      ]
    },
    {
      "cell_type": "code",
      "metadata": {
        "id": "9dWPOds9N_pb",
        "colab_type": "code",
        "colab": {}
      },
      "source": [
        "fifa.drop_duplicates(inplace=True)"
      ],
      "execution_count": null,
      "outputs": []
    },
    {
      "cell_type": "code",
      "metadata": {
        "id": "TllZWsuKQsV_",
        "colab_type": "code",
        "colab": {
          "base_uri": "https://localhost:8080/",
          "height": 545
        },
        "outputId": "69d6e806-0020-4cdf-9c41-e9ef3adbbf78"
      },
      "source": [
        "sniff(fifa)"
      ],
      "execution_count": null,
      "outputs": [
        {
          "output_type": "execute_result",
          "data": {
            "text/html": [
              "<div>\n",
              "<style scoped>\n",
              "    .dataframe tbody tr th:only-of-type {\n",
              "        vertical-align: middle;\n",
              "    }\n",
              "\n",
              "    .dataframe tbody tr th {\n",
              "        vertical-align: top;\n",
              "    }\n",
              "\n",
              "    .dataframe thead th {\n",
              "        text-align: right;\n",
              "    }\n",
              "</style>\n",
              "<table border=\"1\" class=\"dataframe\">\n",
              "  <thead>\n",
              "    <tr style=\"text-align: right;\">\n",
              "      <th></th>\n",
              "      <th>sample</th>\n",
              "      <th>data type</th>\n",
              "      <th>percent duplicated</th>\n",
              "      <th>percent missing</th>\n",
              "    </tr>\n",
              "  </thead>\n",
              "  <tbody>\n",
              "    <tr>\n",
              "      <th>rank</th>\n",
              "      <td>1</td>\n",
              "      <td>int64</td>\n",
              "      <td>0.0</td>\n",
              "      <td>0.0</td>\n",
              "    </tr>\n",
              "    <tr>\n",
              "      <th>previous_points</th>\n",
              "      <td>57</td>\n",
              "      <td>int64</td>\n",
              "      <td>0.0</td>\n",
              "      <td>0.0</td>\n",
              "    </tr>\n",
              "    <tr>\n",
              "      <th>rank_change</th>\n",
              "      <td>0</td>\n",
              "      <td>int64</td>\n",
              "      <td>0.0</td>\n",
              "      <td>0.0</td>\n",
              "    </tr>\n",
              "    <tr>\n",
              "      <th>total_points</th>\n",
              "      <td>0</td>\n",
              "      <td>float64</td>\n",
              "      <td>0.0</td>\n",
              "      <td>0.0</td>\n",
              "    </tr>\n",
              "    <tr>\n",
              "      <th>cur_year_avg</th>\n",
              "      <td>0</td>\n",
              "      <td>float64</td>\n",
              "      <td>0.0</td>\n",
              "      <td>0.0</td>\n",
              "    </tr>\n",
              "    <tr>\n",
              "      <th>cur_year_avg_weighted</th>\n",
              "      <td>0</td>\n",
              "      <td>float64</td>\n",
              "      <td>0.0</td>\n",
              "      <td>0.0</td>\n",
              "    </tr>\n",
              "    <tr>\n",
              "      <th>last_year_avg</th>\n",
              "      <td>0</td>\n",
              "      <td>float64</td>\n",
              "      <td>0.0</td>\n",
              "      <td>0.0</td>\n",
              "    </tr>\n",
              "    <tr>\n",
              "      <th>last_year_avg_weighted</th>\n",
              "      <td>0</td>\n",
              "      <td>float64</td>\n",
              "      <td>0.0</td>\n",
              "      <td>0.0</td>\n",
              "    </tr>\n",
              "    <tr>\n",
              "      <th>two_year_ago_avg</th>\n",
              "      <td>0</td>\n",
              "      <td>float64</td>\n",
              "      <td>0.0</td>\n",
              "      <td>0.0</td>\n",
              "    </tr>\n",
              "    <tr>\n",
              "      <th>two_year_ago_weighted</th>\n",
              "      <td>0</td>\n",
              "      <td>float64</td>\n",
              "      <td>0.0</td>\n",
              "      <td>0.0</td>\n",
              "    </tr>\n",
              "    <tr>\n",
              "      <th>three_year_ago_avg</th>\n",
              "      <td>0</td>\n",
              "      <td>float64</td>\n",
              "      <td>0.0</td>\n",
              "      <td>0.0</td>\n",
              "    </tr>\n",
              "    <tr>\n",
              "      <th>three_year_ago_weighted</th>\n",
              "      <td>0</td>\n",
              "      <td>float64</td>\n",
              "      <td>0.0</td>\n",
              "      <td>0.0</td>\n",
              "    </tr>\n",
              "    <tr>\n",
              "      <th>country_full</th>\n",
              "      <td>Germany</td>\n",
              "      <td>object</td>\n",
              "      <td>0.0</td>\n",
              "      <td>0.0</td>\n",
              "    </tr>\n",
              "    <tr>\n",
              "      <th>country_abrv</th>\n",
              "      <td>GER</td>\n",
              "      <td>object</td>\n",
              "      <td>0.0</td>\n",
              "      <td>0.0</td>\n",
              "    </tr>\n",
              "    <tr>\n",
              "      <th>confederation</th>\n",
              "      <td>UEFA</td>\n",
              "      <td>object</td>\n",
              "      <td>0.0</td>\n",
              "      <td>0.0</td>\n",
              "    </tr>\n",
              "    <tr>\n",
              "      <th>rank_date</th>\n",
              "      <td>1993-08-08</td>\n",
              "      <td>object</td>\n",
              "      <td>0.0</td>\n",
              "      <td>0.0</td>\n",
              "    </tr>\n",
              "  </tbody>\n",
              "</table>\n",
              "</div>"
            ],
            "text/plain": [
              "                             sample  ... percent missing\n",
              "rank                              1  ...             0.0\n",
              "previous_points                  57  ...             0.0\n",
              "rank_change                       0  ...             0.0\n",
              "total_points                      0  ...             0.0\n",
              "cur_year_avg                      0  ...             0.0\n",
              "cur_year_avg_weighted             0  ...             0.0\n",
              "last_year_avg                     0  ...             0.0\n",
              "last_year_avg_weighted            0  ...             0.0\n",
              "two_year_ago_avg                  0  ...             0.0\n",
              "two_year_ago_weighted             0  ...             0.0\n",
              "three_year_ago_avg                0  ...             0.0\n",
              "three_year_ago_weighted           0  ...             0.0\n",
              "country_full                Germany  ...             0.0\n",
              "country_abrv                    GER  ...             0.0\n",
              "confederation                  UEFA  ...             0.0\n",
              "rank_date                1993-08-08  ...             0.0\n",
              "\n",
              "[16 rows x 4 columns]"
            ]
          },
          "metadata": {
            "tags": []
          },
          "execution_count": 10
        }
      ]
    },
    {
      "cell_type": "code",
      "metadata": {
        "id": "qW8Vys8LQwJV",
        "colab_type": "code",
        "colab": {
          "base_uri": "https://localhost:8080/",
          "height": 34
        },
        "outputId": "ae771446-00c4-46d0-c3f4-d07bce7793fa"
      },
      "source": [
        "fifa.shape"
      ],
      "execution_count": null,
      "outputs": [
        {
          "output_type": "execute_result",
          "data": {
            "text/plain": [
              "(57756, 16)"
            ]
          },
          "metadata": {
            "tags": []
          },
          "execution_count": 11
        }
      ]
    },
    {
      "cell_type": "markdown",
      "metadata": {
        "id": "bFSZpUhqQ8I9",
        "colab_type": "text"
      },
      "source": [
        "Even after dropping the duplicates we still have a good amount of data which is **fabulous**"
      ]
    },
    {
      "cell_type": "code",
      "metadata": {
        "id": "oeAM9QlhQ7LF",
        "colab_type": "code",
        "colab": {
          "base_uri": "https://localhost:8080/",
          "height": 419
        },
        "outputId": "14466f33-f05f-46c2-90cc-07a8049e9c09"
      },
      "source": [
        "results[results.home_score<15]"
      ],
      "execution_count": null,
      "outputs": [
        {
          "output_type": "execute_result",
          "data": {
            "text/html": [
              "<div>\n",
              "<style scoped>\n",
              "    .dataframe tbody tr th:only-of-type {\n",
              "        vertical-align: middle;\n",
              "    }\n",
              "\n",
              "    .dataframe tbody tr th {\n",
              "        vertical-align: top;\n",
              "    }\n",
              "\n",
              "    .dataframe thead th {\n",
              "        text-align: right;\n",
              "    }\n",
              "</style>\n",
              "<table border=\"1\" class=\"dataframe\">\n",
              "  <thead>\n",
              "    <tr style=\"text-align: right;\">\n",
              "      <th></th>\n",
              "      <th>date</th>\n",
              "      <th>home_team</th>\n",
              "      <th>away_team</th>\n",
              "      <th>home_score</th>\n",
              "      <th>away_score</th>\n",
              "      <th>tournament</th>\n",
              "      <th>city</th>\n",
              "      <th>country</th>\n",
              "      <th>neutral</th>\n",
              "    </tr>\n",
              "  </thead>\n",
              "  <tbody>\n",
              "    <tr>\n",
              "      <th>0</th>\n",
              "      <td>1872-11-30</td>\n",
              "      <td>Scotland</td>\n",
              "      <td>England</td>\n",
              "      <td>0</td>\n",
              "      <td>0</td>\n",
              "      <td>Friendly</td>\n",
              "      <td>Glasgow</td>\n",
              "      <td>Scotland</td>\n",
              "      <td>False</td>\n",
              "    </tr>\n",
              "    <tr>\n",
              "      <th>1</th>\n",
              "      <td>1873-03-08</td>\n",
              "      <td>England</td>\n",
              "      <td>Scotland</td>\n",
              "      <td>4</td>\n",
              "      <td>2</td>\n",
              "      <td>Friendly</td>\n",
              "      <td>London</td>\n",
              "      <td>England</td>\n",
              "      <td>False</td>\n",
              "    </tr>\n",
              "    <tr>\n",
              "      <th>2</th>\n",
              "      <td>1874-03-07</td>\n",
              "      <td>Scotland</td>\n",
              "      <td>England</td>\n",
              "      <td>2</td>\n",
              "      <td>1</td>\n",
              "      <td>Friendly</td>\n",
              "      <td>Glasgow</td>\n",
              "      <td>Scotland</td>\n",
              "      <td>False</td>\n",
              "    </tr>\n",
              "    <tr>\n",
              "      <th>3</th>\n",
              "      <td>1875-03-06</td>\n",
              "      <td>England</td>\n",
              "      <td>Scotland</td>\n",
              "      <td>2</td>\n",
              "      <td>2</td>\n",
              "      <td>Friendly</td>\n",
              "      <td>London</td>\n",
              "      <td>England</td>\n",
              "      <td>False</td>\n",
              "    </tr>\n",
              "    <tr>\n",
              "      <th>4</th>\n",
              "      <td>1876-03-04</td>\n",
              "      <td>Scotland</td>\n",
              "      <td>England</td>\n",
              "      <td>3</td>\n",
              "      <td>0</td>\n",
              "      <td>Friendly</td>\n",
              "      <td>Glasgow</td>\n",
              "      <td>Scotland</td>\n",
              "      <td>False</td>\n",
              "    </tr>\n",
              "    <tr>\n",
              "      <th>...</th>\n",
              "      <td>...</td>\n",
              "      <td>...</td>\n",
              "      <td>...</td>\n",
              "      <td>...</td>\n",
              "      <td>...</td>\n",
              "      <td>...</td>\n",
              "      <td>...</td>\n",
              "      <td>...</td>\n",
              "      <td>...</td>\n",
              "    </tr>\n",
              "    <tr>\n",
              "      <th>40834</th>\n",
              "      <td>2019-07-18</td>\n",
              "      <td>American Samoa</td>\n",
              "      <td>Tahiti</td>\n",
              "      <td>8</td>\n",
              "      <td>1</td>\n",
              "      <td>Pacific Games</td>\n",
              "      <td>Apia</td>\n",
              "      <td>Samoa</td>\n",
              "      <td>True</td>\n",
              "    </tr>\n",
              "    <tr>\n",
              "      <th>40835</th>\n",
              "      <td>2019-07-18</td>\n",
              "      <td>Fiji</td>\n",
              "      <td>Solomon Islands</td>\n",
              "      <td>4</td>\n",
              "      <td>4</td>\n",
              "      <td>Pacific Games</td>\n",
              "      <td>Apia</td>\n",
              "      <td>Samoa</td>\n",
              "      <td>True</td>\n",
              "    </tr>\n",
              "    <tr>\n",
              "      <th>40836</th>\n",
              "      <td>2019-07-19</td>\n",
              "      <td>Senegal</td>\n",
              "      <td>Algeria</td>\n",
              "      <td>0</td>\n",
              "      <td>1</td>\n",
              "      <td>African Cup of Nations</td>\n",
              "      <td>Cairo</td>\n",
              "      <td>Egypt</td>\n",
              "      <td>True</td>\n",
              "    </tr>\n",
              "    <tr>\n",
              "      <th>40837</th>\n",
              "      <td>2019-07-19</td>\n",
              "      <td>Tajikistan</td>\n",
              "      <td>North Korea</td>\n",
              "      <td>0</td>\n",
              "      <td>1</td>\n",
              "      <td>Intercontinental Cup</td>\n",
              "      <td>Ahmedabad</td>\n",
              "      <td>India</td>\n",
              "      <td>True</td>\n",
              "    </tr>\n",
              "    <tr>\n",
              "      <th>40838</th>\n",
              "      <td>2019-07-20</td>\n",
              "      <td>Papua New Guinea</td>\n",
              "      <td>Fiji</td>\n",
              "      <td>1</td>\n",
              "      <td>1</td>\n",
              "      <td>Pacific Games</td>\n",
              "      <td>Apia</td>\n",
              "      <td>Samoa</td>\n",
              "      <td>True</td>\n",
              "    </tr>\n",
              "  </tbody>\n",
              "</table>\n",
              "<p>40813 rows × 9 columns</p>\n",
              "</div>"
            ],
            "text/plain": [
              "             date         home_team  ...   country  neutral\n",
              "0      1872-11-30          Scotland  ...  Scotland    False\n",
              "1      1873-03-08           England  ...   England    False\n",
              "2      1874-03-07          Scotland  ...  Scotland    False\n",
              "3      1875-03-06           England  ...   England    False\n",
              "4      1876-03-04          Scotland  ...  Scotland    False\n",
              "...           ...               ...  ...       ...      ...\n",
              "40834  2019-07-18    American Samoa  ...     Samoa     True\n",
              "40835  2019-07-18              Fiji  ...     Samoa     True\n",
              "40836  2019-07-19           Senegal  ...     Egypt     True\n",
              "40837  2019-07-19        Tajikistan  ...     India     True\n",
              "40838  2019-07-20  Papua New Guinea  ...     Samoa     True\n",
              "\n",
              "[40813 rows x 9 columns]"
            ]
          },
          "metadata": {
            "tags": []
          },
          "execution_count": 12
        }
      ]
    },
    {
      "cell_type": "code",
      "metadata": {
        "id": "VnYMrRmpSVzx",
        "colab_type": "code",
        "colab": {
          "base_uri": "https://localhost:8080/",
          "height": 419
        },
        "outputId": "1d5b1b61-9648-46d8-b9bf-adde2f728dd0"
      },
      "source": [
        "results[results.away_score<15]"
      ],
      "execution_count": null,
      "outputs": [
        {
          "output_type": "execute_result",
          "data": {
            "text/html": [
              "<div>\n",
              "<style scoped>\n",
              "    .dataframe tbody tr th:only-of-type {\n",
              "        vertical-align: middle;\n",
              "    }\n",
              "\n",
              "    .dataframe tbody tr th {\n",
              "        vertical-align: top;\n",
              "    }\n",
              "\n",
              "    .dataframe thead th {\n",
              "        text-align: right;\n",
              "    }\n",
              "</style>\n",
              "<table border=\"1\" class=\"dataframe\">\n",
              "  <thead>\n",
              "    <tr style=\"text-align: right;\">\n",
              "      <th></th>\n",
              "      <th>date</th>\n",
              "      <th>home_team</th>\n",
              "      <th>away_team</th>\n",
              "      <th>home_score</th>\n",
              "      <th>away_score</th>\n",
              "      <th>tournament</th>\n",
              "      <th>city</th>\n",
              "      <th>country</th>\n",
              "      <th>neutral</th>\n",
              "    </tr>\n",
              "  </thead>\n",
              "  <tbody>\n",
              "    <tr>\n",
              "      <th>0</th>\n",
              "      <td>1872-11-30</td>\n",
              "      <td>Scotland</td>\n",
              "      <td>England</td>\n",
              "      <td>0</td>\n",
              "      <td>0</td>\n",
              "      <td>Friendly</td>\n",
              "      <td>Glasgow</td>\n",
              "      <td>Scotland</td>\n",
              "      <td>False</td>\n",
              "    </tr>\n",
              "    <tr>\n",
              "      <th>1</th>\n",
              "      <td>1873-03-08</td>\n",
              "      <td>England</td>\n",
              "      <td>Scotland</td>\n",
              "      <td>4</td>\n",
              "      <td>2</td>\n",
              "      <td>Friendly</td>\n",
              "      <td>London</td>\n",
              "      <td>England</td>\n",
              "      <td>False</td>\n",
              "    </tr>\n",
              "    <tr>\n",
              "      <th>2</th>\n",
              "      <td>1874-03-07</td>\n",
              "      <td>Scotland</td>\n",
              "      <td>England</td>\n",
              "      <td>2</td>\n",
              "      <td>1</td>\n",
              "      <td>Friendly</td>\n",
              "      <td>Glasgow</td>\n",
              "      <td>Scotland</td>\n",
              "      <td>False</td>\n",
              "    </tr>\n",
              "    <tr>\n",
              "      <th>3</th>\n",
              "      <td>1875-03-06</td>\n",
              "      <td>England</td>\n",
              "      <td>Scotland</td>\n",
              "      <td>2</td>\n",
              "      <td>2</td>\n",
              "      <td>Friendly</td>\n",
              "      <td>London</td>\n",
              "      <td>England</td>\n",
              "      <td>False</td>\n",
              "    </tr>\n",
              "    <tr>\n",
              "      <th>4</th>\n",
              "      <td>1876-03-04</td>\n",
              "      <td>Scotland</td>\n",
              "      <td>England</td>\n",
              "      <td>3</td>\n",
              "      <td>0</td>\n",
              "      <td>Friendly</td>\n",
              "      <td>Glasgow</td>\n",
              "      <td>Scotland</td>\n",
              "      <td>False</td>\n",
              "    </tr>\n",
              "    <tr>\n",
              "      <th>...</th>\n",
              "      <td>...</td>\n",
              "      <td>...</td>\n",
              "      <td>...</td>\n",
              "      <td>...</td>\n",
              "      <td>...</td>\n",
              "      <td>...</td>\n",
              "      <td>...</td>\n",
              "      <td>...</td>\n",
              "      <td>...</td>\n",
              "    </tr>\n",
              "    <tr>\n",
              "      <th>40834</th>\n",
              "      <td>2019-07-18</td>\n",
              "      <td>American Samoa</td>\n",
              "      <td>Tahiti</td>\n",
              "      <td>8</td>\n",
              "      <td>1</td>\n",
              "      <td>Pacific Games</td>\n",
              "      <td>Apia</td>\n",
              "      <td>Samoa</td>\n",
              "      <td>True</td>\n",
              "    </tr>\n",
              "    <tr>\n",
              "      <th>40835</th>\n",
              "      <td>2019-07-18</td>\n",
              "      <td>Fiji</td>\n",
              "      <td>Solomon Islands</td>\n",
              "      <td>4</td>\n",
              "      <td>4</td>\n",
              "      <td>Pacific Games</td>\n",
              "      <td>Apia</td>\n",
              "      <td>Samoa</td>\n",
              "      <td>True</td>\n",
              "    </tr>\n",
              "    <tr>\n",
              "      <th>40836</th>\n",
              "      <td>2019-07-19</td>\n",
              "      <td>Senegal</td>\n",
              "      <td>Algeria</td>\n",
              "      <td>0</td>\n",
              "      <td>1</td>\n",
              "      <td>African Cup of Nations</td>\n",
              "      <td>Cairo</td>\n",
              "      <td>Egypt</td>\n",
              "      <td>True</td>\n",
              "    </tr>\n",
              "    <tr>\n",
              "      <th>40837</th>\n",
              "      <td>2019-07-19</td>\n",
              "      <td>Tajikistan</td>\n",
              "      <td>North Korea</td>\n",
              "      <td>0</td>\n",
              "      <td>1</td>\n",
              "      <td>Intercontinental Cup</td>\n",
              "      <td>Ahmedabad</td>\n",
              "      <td>India</td>\n",
              "      <td>True</td>\n",
              "    </tr>\n",
              "    <tr>\n",
              "      <th>40838</th>\n",
              "      <td>2019-07-20</td>\n",
              "      <td>Papua New Guinea</td>\n",
              "      <td>Fiji</td>\n",
              "      <td>1</td>\n",
              "      <td>1</td>\n",
              "      <td>Pacific Games</td>\n",
              "      <td>Apia</td>\n",
              "      <td>Samoa</td>\n",
              "      <td>True</td>\n",
              "    </tr>\n",
              "  </tbody>\n",
              "</table>\n",
              "<p>40816 rows × 9 columns</p>\n",
              "</div>"
            ],
            "text/plain": [
              "             date         home_team  ...   country  neutral\n",
              "0      1872-11-30          Scotland  ...  Scotland    False\n",
              "1      1873-03-08           England  ...   England    False\n",
              "2      1874-03-07          Scotland  ...  Scotland    False\n",
              "3      1875-03-06           England  ...   England    False\n",
              "4      1876-03-04          Scotland  ...  Scotland    False\n",
              "...           ...               ...  ...       ...      ...\n",
              "40834  2019-07-18    American Samoa  ...     Samoa     True\n",
              "40835  2019-07-18              Fiji  ...     Samoa     True\n",
              "40836  2019-07-19           Senegal  ...     Egypt     True\n",
              "40837  2019-07-19        Tajikistan  ...     India     True\n",
              "40838  2019-07-20  Papua New Guinea  ...     Samoa     True\n",
              "\n",
              "[40816 rows x 9 columns]"
            ]
          },
          "metadata": {
            "tags": []
          },
          "execution_count": 13
        }
      ]
    },
    {
      "cell_type": "code",
      "metadata": {
        "id": "TqTKkFEnTc0d",
        "colab_type": "code",
        "colab": {
          "base_uri": "https://localhost:8080/",
          "height": 309
        },
        "outputId": "d8902477-1adc-4041-96e0-4362b9cef45f"
      },
      "source": [
        "fifa.head()"
      ],
      "execution_count": null,
      "outputs": [
        {
          "output_type": "execute_result",
          "data": {
            "text/html": [
              "<div>\n",
              "<style scoped>\n",
              "    .dataframe tbody tr th:only-of-type {\n",
              "        vertical-align: middle;\n",
              "    }\n",
              "\n",
              "    .dataframe tbody tr th {\n",
              "        vertical-align: top;\n",
              "    }\n",
              "\n",
              "    .dataframe thead th {\n",
              "        text-align: right;\n",
              "    }\n",
              "</style>\n",
              "<table border=\"1\" class=\"dataframe\">\n",
              "  <thead>\n",
              "    <tr style=\"text-align: right;\">\n",
              "      <th></th>\n",
              "      <th>rank</th>\n",
              "      <th>country_full</th>\n",
              "      <th>country_abrv</th>\n",
              "      <th>total_points</th>\n",
              "      <th>previous_points</th>\n",
              "      <th>rank_change</th>\n",
              "      <th>cur_year_avg</th>\n",
              "      <th>cur_year_avg_weighted</th>\n",
              "      <th>last_year_avg</th>\n",
              "      <th>last_year_avg_weighted</th>\n",
              "      <th>two_year_ago_avg</th>\n",
              "      <th>two_year_ago_weighted</th>\n",
              "      <th>three_year_ago_avg</th>\n",
              "      <th>three_year_ago_weighted</th>\n",
              "      <th>confederation</th>\n",
              "      <th>rank_date</th>\n",
              "    </tr>\n",
              "  </thead>\n",
              "  <tbody>\n",
              "    <tr>\n",
              "      <th>0</th>\n",
              "      <td>1</td>\n",
              "      <td>Germany</td>\n",
              "      <td>GER</td>\n",
              "      <td>0.0</td>\n",
              "      <td>57</td>\n",
              "      <td>0</td>\n",
              "      <td>0.0</td>\n",
              "      <td>0.0</td>\n",
              "      <td>0.0</td>\n",
              "      <td>0.0</td>\n",
              "      <td>0.0</td>\n",
              "      <td>0.0</td>\n",
              "      <td>0.0</td>\n",
              "      <td>0.0</td>\n",
              "      <td>UEFA</td>\n",
              "      <td>1993-08-08</td>\n",
              "    </tr>\n",
              "    <tr>\n",
              "      <th>1</th>\n",
              "      <td>2</td>\n",
              "      <td>Italy</td>\n",
              "      <td>ITA</td>\n",
              "      <td>0.0</td>\n",
              "      <td>57</td>\n",
              "      <td>0</td>\n",
              "      <td>0.0</td>\n",
              "      <td>0.0</td>\n",
              "      <td>0.0</td>\n",
              "      <td>0.0</td>\n",
              "      <td>0.0</td>\n",
              "      <td>0.0</td>\n",
              "      <td>0.0</td>\n",
              "      <td>0.0</td>\n",
              "      <td>UEFA</td>\n",
              "      <td>1993-08-08</td>\n",
              "    </tr>\n",
              "    <tr>\n",
              "      <th>2</th>\n",
              "      <td>3</td>\n",
              "      <td>Switzerland</td>\n",
              "      <td>SUI</td>\n",
              "      <td>0.0</td>\n",
              "      <td>50</td>\n",
              "      <td>9</td>\n",
              "      <td>0.0</td>\n",
              "      <td>0.0</td>\n",
              "      <td>0.0</td>\n",
              "      <td>0.0</td>\n",
              "      <td>0.0</td>\n",
              "      <td>0.0</td>\n",
              "      <td>0.0</td>\n",
              "      <td>0.0</td>\n",
              "      <td>UEFA</td>\n",
              "      <td>1993-08-08</td>\n",
              "    </tr>\n",
              "    <tr>\n",
              "      <th>3</th>\n",
              "      <td>4</td>\n",
              "      <td>Sweden</td>\n",
              "      <td>SWE</td>\n",
              "      <td>0.0</td>\n",
              "      <td>55</td>\n",
              "      <td>0</td>\n",
              "      <td>0.0</td>\n",
              "      <td>0.0</td>\n",
              "      <td>0.0</td>\n",
              "      <td>0.0</td>\n",
              "      <td>0.0</td>\n",
              "      <td>0.0</td>\n",
              "      <td>0.0</td>\n",
              "      <td>0.0</td>\n",
              "      <td>UEFA</td>\n",
              "      <td>1993-08-08</td>\n",
              "    </tr>\n",
              "    <tr>\n",
              "      <th>4</th>\n",
              "      <td>5</td>\n",
              "      <td>Argentina</td>\n",
              "      <td>ARG</td>\n",
              "      <td>0.0</td>\n",
              "      <td>51</td>\n",
              "      <td>5</td>\n",
              "      <td>0.0</td>\n",
              "      <td>0.0</td>\n",
              "      <td>0.0</td>\n",
              "      <td>0.0</td>\n",
              "      <td>0.0</td>\n",
              "      <td>0.0</td>\n",
              "      <td>0.0</td>\n",
              "      <td>0.0</td>\n",
              "      <td>CONMEBOL</td>\n",
              "      <td>1993-08-08</td>\n",
              "    </tr>\n",
              "  </tbody>\n",
              "</table>\n",
              "</div>"
            ],
            "text/plain": [
              "   rank country_full  ... confederation   rank_date\n",
              "0     1      Germany  ...          UEFA  1993-08-08\n",
              "1     2        Italy  ...          UEFA  1993-08-08\n",
              "2     3  Switzerland  ...          UEFA  1993-08-08\n",
              "3     4       Sweden  ...          UEFA  1993-08-08\n",
              "4     5    Argentina  ...      CONMEBOL  1993-08-08\n",
              "\n",
              "[5 rows x 16 columns]"
            ]
          },
          "metadata": {
            "tags": []
          },
          "execution_count": 14
        }
      ]
    },
    {
      "cell_type": "code",
      "metadata": {
        "id": "IRtdaZenmAw4",
        "colab_type": "code",
        "colab": {
          "base_uri": "https://localhost:8080/",
          "height": 204
        },
        "outputId": "6895f158-4ab6-4ecc-8fdb-55c191a14ddd"
      },
      "source": [
        "results.head()"
      ],
      "execution_count": null,
      "outputs": [
        {
          "output_type": "execute_result",
          "data": {
            "text/html": [
              "<div>\n",
              "<style scoped>\n",
              "    .dataframe tbody tr th:only-of-type {\n",
              "        vertical-align: middle;\n",
              "    }\n",
              "\n",
              "    .dataframe tbody tr th {\n",
              "        vertical-align: top;\n",
              "    }\n",
              "\n",
              "    .dataframe thead th {\n",
              "        text-align: right;\n",
              "    }\n",
              "</style>\n",
              "<table border=\"1\" class=\"dataframe\">\n",
              "  <thead>\n",
              "    <tr style=\"text-align: right;\">\n",
              "      <th></th>\n",
              "      <th>date</th>\n",
              "      <th>home_team</th>\n",
              "      <th>away_team</th>\n",
              "      <th>home_score</th>\n",
              "      <th>away_score</th>\n",
              "      <th>tournament</th>\n",
              "      <th>city</th>\n",
              "      <th>country</th>\n",
              "      <th>neutral</th>\n",
              "    </tr>\n",
              "  </thead>\n",
              "  <tbody>\n",
              "    <tr>\n",
              "      <th>0</th>\n",
              "      <td>1872-11-30</td>\n",
              "      <td>Scotland</td>\n",
              "      <td>England</td>\n",
              "      <td>0</td>\n",
              "      <td>0</td>\n",
              "      <td>Friendly</td>\n",
              "      <td>Glasgow</td>\n",
              "      <td>Scotland</td>\n",
              "      <td>False</td>\n",
              "    </tr>\n",
              "    <tr>\n",
              "      <th>1</th>\n",
              "      <td>1873-03-08</td>\n",
              "      <td>England</td>\n",
              "      <td>Scotland</td>\n",
              "      <td>4</td>\n",
              "      <td>2</td>\n",
              "      <td>Friendly</td>\n",
              "      <td>London</td>\n",
              "      <td>England</td>\n",
              "      <td>False</td>\n",
              "    </tr>\n",
              "    <tr>\n",
              "      <th>2</th>\n",
              "      <td>1874-03-07</td>\n",
              "      <td>Scotland</td>\n",
              "      <td>England</td>\n",
              "      <td>2</td>\n",
              "      <td>1</td>\n",
              "      <td>Friendly</td>\n",
              "      <td>Glasgow</td>\n",
              "      <td>Scotland</td>\n",
              "      <td>False</td>\n",
              "    </tr>\n",
              "    <tr>\n",
              "      <th>3</th>\n",
              "      <td>1875-03-06</td>\n",
              "      <td>England</td>\n",
              "      <td>Scotland</td>\n",
              "      <td>2</td>\n",
              "      <td>2</td>\n",
              "      <td>Friendly</td>\n",
              "      <td>London</td>\n",
              "      <td>England</td>\n",
              "      <td>False</td>\n",
              "    </tr>\n",
              "    <tr>\n",
              "      <th>4</th>\n",
              "      <td>1876-03-04</td>\n",
              "      <td>Scotland</td>\n",
              "      <td>England</td>\n",
              "      <td>3</td>\n",
              "      <td>0</td>\n",
              "      <td>Friendly</td>\n",
              "      <td>Glasgow</td>\n",
              "      <td>Scotland</td>\n",
              "      <td>False</td>\n",
              "    </tr>\n",
              "  </tbody>\n",
              "</table>\n",
              "</div>"
            ],
            "text/plain": [
              "         date home_team away_team  ...     city   country neutral\n",
              "0  1872-11-30  Scotland   England  ...  Glasgow  Scotland   False\n",
              "1  1873-03-08   England  Scotland  ...   London   England   False\n",
              "2  1874-03-07  Scotland   England  ...  Glasgow  Scotland   False\n",
              "3  1875-03-06   England  Scotland  ...   London   England   False\n",
              "4  1876-03-04  Scotland   England  ...  Glasgow  Scotland   False\n",
              "\n",
              "[5 rows x 9 columns]"
            ]
          },
          "metadata": {
            "tags": []
          },
          "execution_count": 15
        }
      ]
    },
    {
      "cell_type": "markdown",
      "metadata": {
        "id": "jrOlLkdGZsUA",
        "colab_type": "text"
      },
      "source": [
        "#CREATING THE DATASET THAT WE WILL USE FOR ANALYSIS"
      ]
    },
    {
      "cell_type": "markdown",
      "metadata": {
        "id": "xB77tKk7Z8hg",
        "colab_type": "text"
      },
      "source": [
        "we will join our datasets to be come one \n",
        "by doing this we hope to get to know the home team rank and the away team rank at the time the matches were played"
      ]
    },
    {
      "cell_type": "code",
      "metadata": {
        "id": "jKn31NOcmDmY",
        "colab_type": "code",
        "colab": {
          "base_uri": "https://localhost:8080/",
          "height": 34
        },
        "outputId": "38b5e8a7-4ff2-4f1c-ecac-0e006c373fcd"
      },
      "source": [
        "fifa.shape"
      ],
      "execution_count": null,
      "outputs": [
        {
          "output_type": "execute_result",
          "data": {
            "text/plain": [
              "(57756, 16)"
            ]
          },
          "metadata": {
            "tags": []
          },
          "execution_count": 16
        }
      ]
    },
    {
      "cell_type": "code",
      "metadata": {
        "id": "JxJmP1PyawxW",
        "colab_type": "code",
        "colab": {
          "base_uri": "https://localhost:8080/",
          "height": 34
        },
        "outputId": "f1fb4ca9-571f-4874-91c2-d26b3fc9b401"
      },
      "source": [
        "results.shape"
      ],
      "execution_count": null,
      "outputs": [
        {
          "output_type": "execute_result",
          "data": {
            "text/plain": [
              "(40839, 9)"
            ]
          },
          "metadata": {
            "tags": []
          },
          "execution_count": 17
        }
      ]
    },
    {
      "cell_type": "markdown",
      "metadata": {
        "id": "1u9otbNQdsiV",
        "colab_type": "text"
      },
      "source": [
        "Adding new columns to our dataset year and month"
      ]
    },
    {
      "cell_type": "code",
      "metadata": {
        "id": "QX14WKGWa0gD",
        "colab_type": "code",
        "colab": {}
      },
      "source": [
        "results['date']=pd.to_datetime(results['date'])"
      ],
      "execution_count": null,
      "outputs": []
    },
    {
      "cell_type": "code",
      "metadata": {
        "id": "K4OVgbNecYye",
        "colab_type": "code",
        "colab": {}
      },
      "source": [
        "fifa['rank_date']=pd.to_datetime(fifa['rank_date'])"
      ],
      "execution_count": null,
      "outputs": []
    },
    {
      "cell_type": "code",
      "metadata": {
        "id": "_Dd9hktEcT6H",
        "colab_type": "code",
        "colab": {}
      },
      "source": [
        "results['year']=results['date'].dt.year"
      ],
      "execution_count": null,
      "outputs": []
    },
    {
      "cell_type": "code",
      "metadata": {
        "id": "9AcPpe6mdFak",
        "colab_type": "code",
        "colab": {}
      },
      "source": [
        "results['month']=results['date'].dt.month"
      ],
      "execution_count": null,
      "outputs": []
    },
    {
      "cell_type": "code",
      "metadata": {
        "id": "7oD6BWeJdqC2",
        "colab_type": "code",
        "colab": {}
      },
      "source": [
        "fifa['year']=fifa['rank_date'].dt.year"
      ],
      "execution_count": null,
      "outputs": []
    },
    {
      "cell_type": "code",
      "metadata": {
        "id": "7k_ymQwsd-Pq",
        "colab_type": "code",
        "colab": {}
      },
      "source": [
        "fifa['month']=fifa['rank_date'].dt.month"
      ],
      "execution_count": null,
      "outputs": []
    },
    {
      "cell_type": "markdown",
      "metadata": {
        "id": "cmGVD_gEeJas",
        "colab_type": "text"
      },
      "source": [
        "cecking our new dataset with added columns"
      ]
    },
    {
      "cell_type": "code",
      "metadata": {
        "id": "bDTllc4IeHxM",
        "colab_type": "code",
        "colab": {
          "base_uri": "https://localhost:8080/",
          "height": 111
        },
        "outputId": "952cc9ee-9bd0-4b2f-b7d3-e8c5108d6df6"
      },
      "source": [
        "results.head(2)"
      ],
      "execution_count": null,
      "outputs": [
        {
          "output_type": "execute_result",
          "data": {
            "text/html": [
              "<div>\n",
              "<style scoped>\n",
              "    .dataframe tbody tr th:only-of-type {\n",
              "        vertical-align: middle;\n",
              "    }\n",
              "\n",
              "    .dataframe tbody tr th {\n",
              "        vertical-align: top;\n",
              "    }\n",
              "\n",
              "    .dataframe thead th {\n",
              "        text-align: right;\n",
              "    }\n",
              "</style>\n",
              "<table border=\"1\" class=\"dataframe\">\n",
              "  <thead>\n",
              "    <tr style=\"text-align: right;\">\n",
              "      <th></th>\n",
              "      <th>date</th>\n",
              "      <th>home_team</th>\n",
              "      <th>away_team</th>\n",
              "      <th>home_score</th>\n",
              "      <th>away_score</th>\n",
              "      <th>tournament</th>\n",
              "      <th>city</th>\n",
              "      <th>country</th>\n",
              "      <th>neutral</th>\n",
              "      <th>year</th>\n",
              "      <th>month</th>\n",
              "    </tr>\n",
              "  </thead>\n",
              "  <tbody>\n",
              "    <tr>\n",
              "      <th>0</th>\n",
              "      <td>1872-11-30</td>\n",
              "      <td>Scotland</td>\n",
              "      <td>England</td>\n",
              "      <td>0</td>\n",
              "      <td>0</td>\n",
              "      <td>Friendly</td>\n",
              "      <td>Glasgow</td>\n",
              "      <td>Scotland</td>\n",
              "      <td>False</td>\n",
              "      <td>1872</td>\n",
              "      <td>11</td>\n",
              "    </tr>\n",
              "    <tr>\n",
              "      <th>1</th>\n",
              "      <td>1873-03-08</td>\n",
              "      <td>England</td>\n",
              "      <td>Scotland</td>\n",
              "      <td>4</td>\n",
              "      <td>2</td>\n",
              "      <td>Friendly</td>\n",
              "      <td>London</td>\n",
              "      <td>England</td>\n",
              "      <td>False</td>\n",
              "      <td>1873</td>\n",
              "      <td>3</td>\n",
              "    </tr>\n",
              "  </tbody>\n",
              "</table>\n",
              "</div>"
            ],
            "text/plain": [
              "        date home_team away_team  home_score  ...   country neutral  year month\n",
              "0 1872-11-30  Scotland   England           0  ...  Scotland   False  1872    11\n",
              "1 1873-03-08   England  Scotland           4  ...   England   False  1873     3\n",
              "\n",
              "[2 rows x 11 columns]"
            ]
          },
          "metadata": {
            "tags": []
          },
          "execution_count": 29
        }
      ]
    },
    {
      "cell_type": "code",
      "metadata": {
        "id": "wtoIR9mKeSy4",
        "colab_type": "code",
        "colab": {
          "base_uri": "https://localhost:8080/",
          "height": 165
        },
        "outputId": "63941c01-bd45-410f-ac4a-44fe7a59bcb3"
      },
      "source": [
        "fifa.head(2)"
      ],
      "execution_count": null,
      "outputs": [
        {
          "output_type": "execute_result",
          "data": {
            "text/html": [
              "<div>\n",
              "<style scoped>\n",
              "    .dataframe tbody tr th:only-of-type {\n",
              "        vertical-align: middle;\n",
              "    }\n",
              "\n",
              "    .dataframe tbody tr th {\n",
              "        vertical-align: top;\n",
              "    }\n",
              "\n",
              "    .dataframe thead th {\n",
              "        text-align: right;\n",
              "    }\n",
              "</style>\n",
              "<table border=\"1\" class=\"dataframe\">\n",
              "  <thead>\n",
              "    <tr style=\"text-align: right;\">\n",
              "      <th></th>\n",
              "      <th>rank</th>\n",
              "      <th>country_full</th>\n",
              "      <th>country_abrv</th>\n",
              "      <th>total_points</th>\n",
              "      <th>previous_points</th>\n",
              "      <th>rank_change</th>\n",
              "      <th>cur_year_avg</th>\n",
              "      <th>cur_year_avg_weighted</th>\n",
              "      <th>last_year_avg</th>\n",
              "      <th>last_year_avg_weighted</th>\n",
              "      <th>two_year_ago_avg</th>\n",
              "      <th>two_year_ago_weighted</th>\n",
              "      <th>three_year_ago_avg</th>\n",
              "      <th>three_year_ago_weighted</th>\n",
              "      <th>confederation</th>\n",
              "      <th>rank_date</th>\n",
              "      <th>year</th>\n",
              "      <th>month</th>\n",
              "    </tr>\n",
              "  </thead>\n",
              "  <tbody>\n",
              "    <tr>\n",
              "      <th>0</th>\n",
              "      <td>1</td>\n",
              "      <td>Germany</td>\n",
              "      <td>GER</td>\n",
              "      <td>0.0</td>\n",
              "      <td>57</td>\n",
              "      <td>0</td>\n",
              "      <td>0.0</td>\n",
              "      <td>0.0</td>\n",
              "      <td>0.0</td>\n",
              "      <td>0.0</td>\n",
              "      <td>0.0</td>\n",
              "      <td>0.0</td>\n",
              "      <td>0.0</td>\n",
              "      <td>0.0</td>\n",
              "      <td>UEFA</td>\n",
              "      <td>1993-08-08</td>\n",
              "      <td>1993</td>\n",
              "      <td>8</td>\n",
              "    </tr>\n",
              "    <tr>\n",
              "      <th>1</th>\n",
              "      <td>2</td>\n",
              "      <td>Italy</td>\n",
              "      <td>ITA</td>\n",
              "      <td>0.0</td>\n",
              "      <td>57</td>\n",
              "      <td>0</td>\n",
              "      <td>0.0</td>\n",
              "      <td>0.0</td>\n",
              "      <td>0.0</td>\n",
              "      <td>0.0</td>\n",
              "      <td>0.0</td>\n",
              "      <td>0.0</td>\n",
              "      <td>0.0</td>\n",
              "      <td>0.0</td>\n",
              "      <td>UEFA</td>\n",
              "      <td>1993-08-08</td>\n",
              "      <td>1993</td>\n",
              "      <td>8</td>\n",
              "    </tr>\n",
              "  </tbody>\n",
              "</table>\n",
              "</div>"
            ],
            "text/plain": [
              "   rank country_full country_abrv  ...  rank_date  year  month\n",
              "0     1      Germany          GER  ... 1993-08-08  1993      8\n",
              "1     2        Italy          ITA  ... 1993-08-08  1993      8\n",
              "\n",
              "[2 rows x 18 columns]"
            ]
          },
          "metadata": {
            "tags": []
          },
          "execution_count": 32
        }
      ]
    },
    {
      "cell_type": "code",
      "metadata": {
        "id": "hdq9xCCkeWMY",
        "colab_type": "code",
        "colab": {}
      },
      "source": [
        "fifa3=fifa[['year','month','country_full','rank']]"
      ],
      "execution_count": null,
      "outputs": []
    },
    {
      "cell_type": "code",
      "metadata": {
        "id": "tiDWE4PFfUi6",
        "colab_type": "code",
        "colab": {
          "base_uri": "https://localhost:8080/",
          "height": 204
        },
        "outputId": "4eb01ed4-7d16-4557-f79f-5dd8101404eb"
      },
      "source": [
        "fifa3.head()"
      ],
      "execution_count": null,
      "outputs": [
        {
          "output_type": "execute_result",
          "data": {
            "text/html": [
              "<div>\n",
              "<style scoped>\n",
              "    .dataframe tbody tr th:only-of-type {\n",
              "        vertical-align: middle;\n",
              "    }\n",
              "\n",
              "    .dataframe tbody tr th {\n",
              "        vertical-align: top;\n",
              "    }\n",
              "\n",
              "    .dataframe thead th {\n",
              "        text-align: right;\n",
              "    }\n",
              "</style>\n",
              "<table border=\"1\" class=\"dataframe\">\n",
              "  <thead>\n",
              "    <tr style=\"text-align: right;\">\n",
              "      <th></th>\n",
              "      <th>year</th>\n",
              "      <th>month</th>\n",
              "      <th>country_full</th>\n",
              "      <th>rank</th>\n",
              "    </tr>\n",
              "  </thead>\n",
              "  <tbody>\n",
              "    <tr>\n",
              "      <th>0</th>\n",
              "      <td>1993</td>\n",
              "      <td>8</td>\n",
              "      <td>Germany</td>\n",
              "      <td>1</td>\n",
              "    </tr>\n",
              "    <tr>\n",
              "      <th>1</th>\n",
              "      <td>1993</td>\n",
              "      <td>8</td>\n",
              "      <td>Italy</td>\n",
              "      <td>2</td>\n",
              "    </tr>\n",
              "    <tr>\n",
              "      <th>2</th>\n",
              "      <td>1993</td>\n",
              "      <td>8</td>\n",
              "      <td>Switzerland</td>\n",
              "      <td>3</td>\n",
              "    </tr>\n",
              "    <tr>\n",
              "      <th>3</th>\n",
              "      <td>1993</td>\n",
              "      <td>8</td>\n",
              "      <td>Sweden</td>\n",
              "      <td>4</td>\n",
              "    </tr>\n",
              "    <tr>\n",
              "      <th>4</th>\n",
              "      <td>1993</td>\n",
              "      <td>8</td>\n",
              "      <td>Argentina</td>\n",
              "      <td>5</td>\n",
              "    </tr>\n",
              "  </tbody>\n",
              "</table>\n",
              "</div>"
            ],
            "text/plain": [
              "   year  month country_full  rank\n",
              "0  1993      8      Germany     1\n",
              "1  1993      8        Italy     2\n",
              "2  1993      8  Switzerland     3\n",
              "3  1993      8       Sweden     4\n",
              "4  1993      8    Argentina     5"
            ]
          },
          "metadata": {
            "tags": []
          },
          "execution_count": 38
        }
      ]
    },
    {
      "cell_type": "code",
      "metadata": {
        "id": "-5zx2YDtffUN",
        "colab_type": "code",
        "colab": {
          "base_uri": "https://localhost:8080/",
          "height": 102
        },
        "outputId": "e26d691a-aa7e-4317-a847-5d51a61a7d61"
      },
      "source": [
        "fifa3.rename(columns={'country_full':'home_team'},inplace=True)"
      ],
      "execution_count": null,
      "outputs": [
        {
          "output_type": "stream",
          "text": [
            "/usr/local/lib/python3.6/dist-packages/pandas/core/frame.py:4133: SettingWithCopyWarning: \n",
            "A value is trying to be set on a copy of a slice from a DataFrame\n",
            "\n",
            "See the caveats in the documentation: https://pandas.pydata.org/pandas-docs/stable/user_guide/indexing.html#returning-a-view-versus-a-copy\n",
            "  errors=errors,\n"
          ],
          "name": "stderr"
        }
      ]
    },
    {
      "cell_type": "code",
      "metadata": {
        "id": "B4Ru_4fxfuXh",
        "colab_type": "code",
        "colab": {
          "base_uri": "https://localhost:8080/",
          "height": 80
        },
        "outputId": "2963cb9e-4c2b-4d15-c103-f550d5686c3b"
      },
      "source": [
        "fifa3.head(1)"
      ],
      "execution_count": null,
      "outputs": [
        {
          "output_type": "execute_result",
          "data": {
            "text/html": [
              "<div>\n",
              "<style scoped>\n",
              "    .dataframe tbody tr th:only-of-type {\n",
              "        vertical-align: middle;\n",
              "    }\n",
              "\n",
              "    .dataframe tbody tr th {\n",
              "        vertical-align: top;\n",
              "    }\n",
              "\n",
              "    .dataframe thead th {\n",
              "        text-align: right;\n",
              "    }\n",
              "</style>\n",
              "<table border=\"1\" class=\"dataframe\">\n",
              "  <thead>\n",
              "    <tr style=\"text-align: right;\">\n",
              "      <th></th>\n",
              "      <th>year</th>\n",
              "      <th>month</th>\n",
              "      <th>home_team</th>\n",
              "      <th>rank</th>\n",
              "    </tr>\n",
              "  </thead>\n",
              "  <tbody>\n",
              "    <tr>\n",
              "      <th>0</th>\n",
              "      <td>1993</td>\n",
              "      <td>8</td>\n",
              "      <td>Germany</td>\n",
              "      <td>1</td>\n",
              "    </tr>\n",
              "  </tbody>\n",
              "</table>\n",
              "</div>"
            ],
            "text/plain": [
              "   year  month home_team  rank\n",
              "0  1993      8   Germany     1"
            ]
          },
          "metadata": {
            "tags": []
          },
          "execution_count": 40
        }
      ]
    },
    {
      "cell_type": "markdown",
      "metadata": {
        "id": "stms5g27gJ_S",
        "colab_type": "text"
      },
      "source": [
        "Doing an inner join to capture home team rank"
      ]
    },
    {
      "cell_type": "code",
      "metadata": {
        "id": "ru2R1m-Lf5s3",
        "colab_type": "code",
        "colab": {}
      },
      "source": [
        "overall=pd.merge(left=fifa3,right=results,on=['home_team','year','month'],how='inner')"
      ],
      "execution_count": null,
      "outputs": []
    },
    {
      "cell_type": "code",
      "metadata": {
        "id": "7-wLjA8egDkc",
        "colab_type": "code",
        "colab": {
          "base_uri": "https://localhost:8080/",
          "height": 204
        },
        "outputId": "cc4d3932-cb8e-402e-ebd5-01599c07cd98"
      },
      "source": [
        "overall.head()"
      ],
      "execution_count": null,
      "outputs": [
        {
          "output_type": "execute_result",
          "data": {
            "text/html": [
              "<div>\n",
              "<style scoped>\n",
              "    .dataframe tbody tr th:only-of-type {\n",
              "        vertical-align: middle;\n",
              "    }\n",
              "\n",
              "    .dataframe tbody tr th {\n",
              "        vertical-align: top;\n",
              "    }\n",
              "\n",
              "    .dataframe thead th {\n",
              "        text-align: right;\n",
              "    }\n",
              "</style>\n",
              "<table border=\"1\" class=\"dataframe\">\n",
              "  <thead>\n",
              "    <tr style=\"text-align: right;\">\n",
              "      <th></th>\n",
              "      <th>year</th>\n",
              "      <th>month</th>\n",
              "      <th>home_team</th>\n",
              "      <th>rank</th>\n",
              "      <th>date</th>\n",
              "      <th>away_team</th>\n",
              "      <th>home_score</th>\n",
              "      <th>away_score</th>\n",
              "      <th>tournament</th>\n",
              "      <th>city</th>\n",
              "      <th>country</th>\n",
              "      <th>neutral</th>\n",
              "    </tr>\n",
              "  </thead>\n",
              "  <tbody>\n",
              "    <tr>\n",
              "      <th>0</th>\n",
              "      <td>1993</td>\n",
              "      <td>8</td>\n",
              "      <td>Sweden</td>\n",
              "      <td>4</td>\n",
              "      <td>1993-08-11</td>\n",
              "      <td>Switzerland</td>\n",
              "      <td>1</td>\n",
              "      <td>2</td>\n",
              "      <td>Friendly</td>\n",
              "      <td>Borås</td>\n",
              "      <td>Sweden</td>\n",
              "      <td>False</td>\n",
              "    </tr>\n",
              "    <tr>\n",
              "      <th>1</th>\n",
              "      <td>1993</td>\n",
              "      <td>8</td>\n",
              "      <td>Sweden</td>\n",
              "      <td>4</td>\n",
              "      <td>1993-08-22</td>\n",
              "      <td>France</td>\n",
              "      <td>1</td>\n",
              "      <td>1</td>\n",
              "      <td>FIFA World Cup qualification</td>\n",
              "      <td>Solna</td>\n",
              "      <td>Sweden</td>\n",
              "      <td>False</td>\n",
              "    </tr>\n",
              "    <tr>\n",
              "      <th>2</th>\n",
              "      <td>1993</td>\n",
              "      <td>8</td>\n",
              "      <td>Argentina</td>\n",
              "      <td>5</td>\n",
              "      <td>1993-08-22</td>\n",
              "      <td>Peru</td>\n",
              "      <td>2</td>\n",
              "      <td>1</td>\n",
              "      <td>FIFA World Cup qualification</td>\n",
              "      <td>Buenos Aires</td>\n",
              "      <td>Argentina</td>\n",
              "      <td>False</td>\n",
              "    </tr>\n",
              "    <tr>\n",
              "      <th>3</th>\n",
              "      <td>1993</td>\n",
              "      <td>8</td>\n",
              "      <td>Argentina</td>\n",
              "      <td>5</td>\n",
              "      <td>1993-08-29</td>\n",
              "      <td>Paraguay</td>\n",
              "      <td>0</td>\n",
              "      <td>0</td>\n",
              "      <td>FIFA World Cup qualification</td>\n",
              "      <td>Buenos Aires</td>\n",
              "      <td>Argentina</td>\n",
              "      <td>False</td>\n",
              "    </tr>\n",
              "    <tr>\n",
              "      <th>4</th>\n",
              "      <td>1993</td>\n",
              "      <td>8</td>\n",
              "      <td>Brazil</td>\n",
              "      <td>8</td>\n",
              "      <td>1993-08-08</td>\n",
              "      <td>Mexico</td>\n",
              "      <td>1</td>\n",
              "      <td>1</td>\n",
              "      <td>Friendly</td>\n",
              "      <td>Maceió</td>\n",
              "      <td>Brazil</td>\n",
              "      <td>False</td>\n",
              "    </tr>\n",
              "  </tbody>\n",
              "</table>\n",
              "</div>"
            ],
            "text/plain": [
              "   year  month  home_team  ...          city    country neutral\n",
              "0  1993      8     Sweden  ...         Borås     Sweden   False\n",
              "1  1993      8     Sweden  ...         Solna     Sweden   False\n",
              "2  1993      8  Argentina  ...  Buenos Aires  Argentina   False\n",
              "3  1993      8  Argentina  ...  Buenos Aires  Argentina   False\n",
              "4  1993      8     Brazil  ...        Maceió     Brazil   False\n",
              "\n",
              "[5 rows x 12 columns]"
            ]
          },
          "metadata": {
            "tags": []
          },
          "execution_count": 42
        }
      ]
    },
    {
      "cell_type": "code",
      "metadata": {
        "id": "TvlA1961gGvm",
        "colab_type": "code",
        "colab": {
          "base_uri": "https://localhost:8080/",
          "height": 34
        },
        "outputId": "83d69b42-c683-4183-8a93-88b286ccf21c"
      },
      "source": [
        "overall.shape"
      ],
      "execution_count": null,
      "outputs": [
        {
          "output_type": "execute_result",
          "data": {
            "text/plain": [
              "(18593, 12)"
            ]
          },
          "metadata": {
            "tags": []
          },
          "execution_count": 43
        }
      ]
    },
    {
      "cell_type": "markdown",
      "metadata": {
        "id": "VOfe6axlgbHu",
        "colab_type": "text"
      },
      "source": [
        "renaming the rank column to home_team_rank"
      ]
    },
    {
      "cell_type": "code",
      "metadata": {
        "id": "_j6wL2rVgStG",
        "colab_type": "code",
        "colab": {}
      },
      "source": [
        "overall.rename(columns={'rank':'home_team_rank'},inplace=True)"
      ],
      "execution_count": null,
      "outputs": []
    },
    {
      "cell_type": "markdown",
      "metadata": {
        "id": "zIQ7TFmNg4FZ",
        "colab_type": "text"
      },
      "source": [
        "getting the away team rank "
      ]
    },
    {
      "cell_type": "code",
      "metadata": {
        "id": "Rh_HyVrbgz_t",
        "colab_type": "code",
        "colab": {
          "base_uri": "https://localhost:8080/",
          "height": 102
        },
        "outputId": "e310b4aa-8f42-4b1b-d497-5edea43c3f1f"
      },
      "source": [
        "fifa3.rename(columns={'home_team':'away_team'},inplace=True)"
      ],
      "execution_count": null,
      "outputs": [
        {
          "output_type": "stream",
          "text": [
            "/usr/local/lib/python3.6/dist-packages/pandas/core/frame.py:4133: SettingWithCopyWarning: \n",
            "A value is trying to be set on a copy of a slice from a DataFrame\n",
            "\n",
            "See the caveats in the documentation: https://pandas.pydata.org/pandas-docs/stable/user_guide/indexing.html#returning-a-view-versus-a-copy\n",
            "  errors=errors,\n"
          ],
          "name": "stderr"
        }
      ]
    },
    {
      "cell_type": "code",
      "metadata": {
        "id": "0HlL356ZhKS0",
        "colab_type": "code",
        "colab": {
          "base_uri": "https://localhost:8080/",
          "height": 80
        },
        "outputId": "d3815b46-8adb-4c4d-f3c5-8860f523a3be"
      },
      "source": [
        "fifa3.head(1)"
      ],
      "execution_count": null,
      "outputs": [
        {
          "output_type": "execute_result",
          "data": {
            "text/html": [
              "<div>\n",
              "<style scoped>\n",
              "    .dataframe tbody tr th:only-of-type {\n",
              "        vertical-align: middle;\n",
              "    }\n",
              "\n",
              "    .dataframe tbody tr th {\n",
              "        vertical-align: top;\n",
              "    }\n",
              "\n",
              "    .dataframe thead th {\n",
              "        text-align: right;\n",
              "    }\n",
              "</style>\n",
              "<table border=\"1\" class=\"dataframe\">\n",
              "  <thead>\n",
              "    <tr style=\"text-align: right;\">\n",
              "      <th></th>\n",
              "      <th>year</th>\n",
              "      <th>month</th>\n",
              "      <th>away_team</th>\n",
              "      <th>rank</th>\n",
              "    </tr>\n",
              "  </thead>\n",
              "  <tbody>\n",
              "    <tr>\n",
              "      <th>0</th>\n",
              "      <td>1993</td>\n",
              "      <td>8</td>\n",
              "      <td>Germany</td>\n",
              "      <td>1</td>\n",
              "    </tr>\n",
              "  </tbody>\n",
              "</table>\n",
              "</div>"
            ],
            "text/plain": [
              "   year  month away_team  rank\n",
              "0  1993      8   Germany     1"
            ]
          },
          "metadata": {
            "tags": []
          },
          "execution_count": 46
        }
      ]
    },
    {
      "cell_type": "markdown",
      "metadata": {
        "id": "ktz8dtkwhRuJ",
        "colab_type": "text"
      },
      "source": [
        "Doing an inner join to get the away rank"
      ]
    },
    {
      "cell_type": "code",
      "metadata": {
        "id": "faCXjuPShOVa",
        "colab_type": "code",
        "colab": {}
      },
      "source": [
        "overall2=pd.merge(left=fifa3,right=overall,on=['away_team','year','month'],how='inner')"
      ],
      "execution_count": null,
      "outputs": []
    },
    {
      "cell_type": "code",
      "metadata": {
        "id": "UK40n1ehhk26",
        "colab_type": "code",
        "colab": {
          "base_uri": "https://localhost:8080/",
          "height": 34
        },
        "outputId": "d5c2b873-920f-43d8-a2fd-da2636935c95"
      },
      "source": [
        "overall2.shape"
      ],
      "execution_count": null,
      "outputs": [
        {
          "output_type": "execute_result",
          "data": {
            "text/plain": [
              "(16918, 13)"
            ]
          },
          "metadata": {
            "tags": []
          },
          "execution_count": 48
        }
      ]
    },
    {
      "cell_type": "code",
      "metadata": {
        "id": "ssPNkupghn7h",
        "colab_type": "code",
        "colab": {
          "base_uri": "https://localhost:8080/",
          "height": 111
        },
        "outputId": "72dee983-4fa8-48f8-d3a6-6984dd4d80ca"
      },
      "source": [
        "overall2.head(2)"
      ],
      "execution_count": null,
      "outputs": [
        {
          "output_type": "execute_result",
          "data": {
            "text/html": [
              "<div>\n",
              "<style scoped>\n",
              "    .dataframe tbody tr th:only-of-type {\n",
              "        vertical-align: middle;\n",
              "    }\n",
              "\n",
              "    .dataframe tbody tr th {\n",
              "        vertical-align: top;\n",
              "    }\n",
              "\n",
              "    .dataframe thead th {\n",
              "        text-align: right;\n",
              "    }\n",
              "</style>\n",
              "<table border=\"1\" class=\"dataframe\">\n",
              "  <thead>\n",
              "    <tr style=\"text-align: right;\">\n",
              "      <th></th>\n",
              "      <th>year</th>\n",
              "      <th>month</th>\n",
              "      <th>away_team</th>\n",
              "      <th>rank</th>\n",
              "      <th>home_team</th>\n",
              "      <th>home_team_rank</th>\n",
              "      <th>date</th>\n",
              "      <th>home_score</th>\n",
              "      <th>away_score</th>\n",
              "      <th>tournament</th>\n",
              "      <th>city</th>\n",
              "      <th>country</th>\n",
              "      <th>neutral</th>\n",
              "    </tr>\n",
              "  </thead>\n",
              "  <tbody>\n",
              "    <tr>\n",
              "      <th>0</th>\n",
              "      <td>1993</td>\n",
              "      <td>8</td>\n",
              "      <td>Switzerland</td>\n",
              "      <td>3</td>\n",
              "      <td>Sweden</td>\n",
              "      <td>4</td>\n",
              "      <td>1993-08-11</td>\n",
              "      <td>1</td>\n",
              "      <td>2</td>\n",
              "      <td>Friendly</td>\n",
              "      <td>Borås</td>\n",
              "      <td>Sweden</td>\n",
              "      <td>False</td>\n",
              "    </tr>\n",
              "    <tr>\n",
              "      <th>1</th>\n",
              "      <td>1993</td>\n",
              "      <td>8</td>\n",
              "      <td>Argentina</td>\n",
              "      <td>5</td>\n",
              "      <td>Colombia</td>\n",
              "      <td>19</td>\n",
              "      <td>1993-08-15</td>\n",
              "      <td>2</td>\n",
              "      <td>1</td>\n",
              "      <td>FIFA World Cup qualification</td>\n",
              "      <td>Barranquilla</td>\n",
              "      <td>Colombia</td>\n",
              "      <td>False</td>\n",
              "    </tr>\n",
              "  </tbody>\n",
              "</table>\n",
              "</div>"
            ],
            "text/plain": [
              "   year  month    away_team  ...          city   country  neutral\n",
              "0  1993      8  Switzerland  ...         Borås    Sweden    False\n",
              "1  1993      8    Argentina  ...  Barranquilla  Colombia    False\n",
              "\n",
              "[2 rows x 13 columns]"
            ]
          },
          "metadata": {
            "tags": []
          },
          "execution_count": 49
        }
      ]
    },
    {
      "cell_type": "code",
      "metadata": {
        "id": "9HJm_jvihu_0",
        "colab_type": "code",
        "colab": {}
      },
      "source": [
        "overall2.rename(columns={'rank':'away_team_rank'},inplace=True)"
      ],
      "execution_count": null,
      "outputs": []
    },
    {
      "cell_type": "markdown",
      "metadata": {
        "id": "xS1NxZfHilJA",
        "colab_type": "text"
      },
      "source": [
        "Getting a copy of our final dataset for pre processing"
      ]
    },
    {
      "cell_type": "code",
      "metadata": {
        "id": "INuB1WfLiWLl",
        "colab_type": "code",
        "colab": {}
      },
      "source": [
        "fifa_ranking= overall2.copy()"
      ],
      "execution_count": null,
      "outputs": []
    },
    {
      "cell_type": "markdown",
      "metadata": {
        "id": "bCZUI2OOisQV",
        "colab_type": "text"
      },
      "source": [
        "# Data Cleaning"
      ]
    },
    {
      "cell_type": "code",
      "metadata": {
        "id": "-GeozjwyirSY",
        "colab_type": "code",
        "colab": {
          "base_uri": "https://localhost:8080/",
          "height": 204
        },
        "outputId": "08b71854-eda9-4455-d12c-795fceafe32d"
      },
      "source": [
        "fifa_analysis.head()"
      ],
      "execution_count": null,
      "outputs": [
        {
          "output_type": "execute_result",
          "data": {
            "text/html": [
              "<div>\n",
              "<style scoped>\n",
              "    .dataframe tbody tr th:only-of-type {\n",
              "        vertical-align: middle;\n",
              "    }\n",
              "\n",
              "    .dataframe tbody tr th {\n",
              "        vertical-align: top;\n",
              "    }\n",
              "\n",
              "    .dataframe thead th {\n",
              "        text-align: right;\n",
              "    }\n",
              "</style>\n",
              "<table border=\"1\" class=\"dataframe\">\n",
              "  <thead>\n",
              "    <tr style=\"text-align: right;\">\n",
              "      <th></th>\n",
              "      <th>year</th>\n",
              "      <th>month</th>\n",
              "      <th>away_team</th>\n",
              "      <th>away_team_rank</th>\n",
              "      <th>home_team</th>\n",
              "      <th>home_team_rank</th>\n",
              "      <th>date</th>\n",
              "      <th>home_score</th>\n",
              "      <th>away_score</th>\n",
              "      <th>tournament</th>\n",
              "      <th>city</th>\n",
              "      <th>country</th>\n",
              "      <th>neutral</th>\n",
              "    </tr>\n",
              "  </thead>\n",
              "  <tbody>\n",
              "    <tr>\n",
              "      <th>0</th>\n",
              "      <td>1993</td>\n",
              "      <td>8</td>\n",
              "      <td>Switzerland</td>\n",
              "      <td>3</td>\n",
              "      <td>Sweden</td>\n",
              "      <td>4</td>\n",
              "      <td>1993-08-11</td>\n",
              "      <td>1</td>\n",
              "      <td>2</td>\n",
              "      <td>Friendly</td>\n",
              "      <td>Borås</td>\n",
              "      <td>Sweden</td>\n",
              "      <td>False</td>\n",
              "    </tr>\n",
              "    <tr>\n",
              "      <th>1</th>\n",
              "      <td>1993</td>\n",
              "      <td>8</td>\n",
              "      <td>Argentina</td>\n",
              "      <td>5</td>\n",
              "      <td>Colombia</td>\n",
              "      <td>19</td>\n",
              "      <td>1993-08-15</td>\n",
              "      <td>2</td>\n",
              "      <td>1</td>\n",
              "      <td>FIFA World Cup qualification</td>\n",
              "      <td>Barranquilla</td>\n",
              "      <td>Colombia</td>\n",
              "      <td>False</td>\n",
              "    </tr>\n",
              "    <tr>\n",
              "      <th>2</th>\n",
              "      <td>1993</td>\n",
              "      <td>8</td>\n",
              "      <td>Argentina</td>\n",
              "      <td>5</td>\n",
              "      <td>Paraguay</td>\n",
              "      <td>67</td>\n",
              "      <td>1993-08-08</td>\n",
              "      <td>1</td>\n",
              "      <td>3</td>\n",
              "      <td>FIFA World Cup qualification</td>\n",
              "      <td>Asunción</td>\n",
              "      <td>Paraguay</td>\n",
              "      <td>False</td>\n",
              "    </tr>\n",
              "    <tr>\n",
              "      <th>3</th>\n",
              "      <td>1993</td>\n",
              "      <td>8</td>\n",
              "      <td>Argentina</td>\n",
              "      <td>5</td>\n",
              "      <td>Peru</td>\n",
              "      <td>70</td>\n",
              "      <td>1993-08-01</td>\n",
              "      <td>0</td>\n",
              "      <td>1</td>\n",
              "      <td>FIFA World Cup qualification</td>\n",
              "      <td>Lima</td>\n",
              "      <td>Peru</td>\n",
              "      <td>False</td>\n",
              "    </tr>\n",
              "    <tr>\n",
              "      <th>4</th>\n",
              "      <td>1993</td>\n",
              "      <td>8</td>\n",
              "      <td>Brazil</td>\n",
              "      <td>8</td>\n",
              "      <td>Uruguay</td>\n",
              "      <td>22</td>\n",
              "      <td>1993-08-15</td>\n",
              "      <td>1</td>\n",
              "      <td>1</td>\n",
              "      <td>FIFA World Cup qualification</td>\n",
              "      <td>Montevideo</td>\n",
              "      <td>Uruguay</td>\n",
              "      <td>False</td>\n",
              "    </tr>\n",
              "  </tbody>\n",
              "</table>\n",
              "</div>"
            ],
            "text/plain": [
              "   year  month    away_team  ...          city   country  neutral\n",
              "0  1993      8  Switzerland  ...         Borås    Sweden    False\n",
              "1  1993      8    Argentina  ...  Barranquilla  Colombia    False\n",
              "2  1993      8    Argentina  ...      Asunción  Paraguay    False\n",
              "3  1993      8    Argentina  ...          Lima      Peru    False\n",
              "4  1993      8       Brazil  ...    Montevideo   Uruguay    False\n",
              "\n",
              "[5 rows x 13 columns]"
            ]
          },
          "metadata": {
            "tags": []
          },
          "execution_count": 63
        }
      ]
    },
    {
      "cell_type": "markdown",
      "metadata": {
        "id": "d6C3pX64jN3M",
        "colab_type": "text"
      },
      "source": [
        "Re-arranging our dataset columns tolook good"
      ]
    },
    {
      "cell_type": "code",
      "metadata": {
        "id": "35dcUbgGjAL6",
        "colab_type": "code",
        "colab": {}
      },
      "source": [
        "fifa_ranking=fifa_analysis[['away_team','home_team','away_score','home_score','away_team_rank','home_team_rank','year','neutral','tournament']]"
      ],
      "execution_count": null,
      "outputs": []
    },
    {
      "cell_type": "code",
      "metadata": {
        "id": "fTbDvd1yjivR",
        "colab_type": "code",
        "colab": {
          "base_uri": "https://localhost:8080/",
          "height": 204
        },
        "outputId": "f64b9136-2e6a-4685-9c32-18e919f5500e"
      },
      "source": [
        "fifa_ranking.head()"
      ],
      "execution_count": null,
      "outputs": [
        {
          "output_type": "execute_result",
          "data": {
            "text/html": [
              "<div>\n",
              "<style scoped>\n",
              "    .dataframe tbody tr th:only-of-type {\n",
              "        vertical-align: middle;\n",
              "    }\n",
              "\n",
              "    .dataframe tbody tr th {\n",
              "        vertical-align: top;\n",
              "    }\n",
              "\n",
              "    .dataframe thead th {\n",
              "        text-align: right;\n",
              "    }\n",
              "</style>\n",
              "<table border=\"1\" class=\"dataframe\">\n",
              "  <thead>\n",
              "    <tr style=\"text-align: right;\">\n",
              "      <th></th>\n",
              "      <th>away_team</th>\n",
              "      <th>home_team</th>\n",
              "      <th>away_score</th>\n",
              "      <th>home_score</th>\n",
              "      <th>away_team_rank</th>\n",
              "      <th>home_team_rank</th>\n",
              "      <th>year</th>\n",
              "      <th>neutral</th>\n",
              "      <th>tournament</th>\n",
              "    </tr>\n",
              "  </thead>\n",
              "  <tbody>\n",
              "    <tr>\n",
              "      <th>0</th>\n",
              "      <td>Switzerland</td>\n",
              "      <td>Sweden</td>\n",
              "      <td>2</td>\n",
              "      <td>1</td>\n",
              "      <td>3</td>\n",
              "      <td>4</td>\n",
              "      <td>1993</td>\n",
              "      <td>False</td>\n",
              "      <td>Friendly</td>\n",
              "    </tr>\n",
              "    <tr>\n",
              "      <th>1</th>\n",
              "      <td>Argentina</td>\n",
              "      <td>Colombia</td>\n",
              "      <td>1</td>\n",
              "      <td>2</td>\n",
              "      <td>5</td>\n",
              "      <td>19</td>\n",
              "      <td>1993</td>\n",
              "      <td>False</td>\n",
              "      <td>FIFA World Cup qualification</td>\n",
              "    </tr>\n",
              "    <tr>\n",
              "      <th>2</th>\n",
              "      <td>Argentina</td>\n",
              "      <td>Paraguay</td>\n",
              "      <td>3</td>\n",
              "      <td>1</td>\n",
              "      <td>5</td>\n",
              "      <td>67</td>\n",
              "      <td>1993</td>\n",
              "      <td>False</td>\n",
              "      <td>FIFA World Cup qualification</td>\n",
              "    </tr>\n",
              "    <tr>\n",
              "      <th>3</th>\n",
              "      <td>Argentina</td>\n",
              "      <td>Peru</td>\n",
              "      <td>1</td>\n",
              "      <td>0</td>\n",
              "      <td>5</td>\n",
              "      <td>70</td>\n",
              "      <td>1993</td>\n",
              "      <td>False</td>\n",
              "      <td>FIFA World Cup qualification</td>\n",
              "    </tr>\n",
              "    <tr>\n",
              "      <th>4</th>\n",
              "      <td>Brazil</td>\n",
              "      <td>Uruguay</td>\n",
              "      <td>1</td>\n",
              "      <td>1</td>\n",
              "      <td>8</td>\n",
              "      <td>22</td>\n",
              "      <td>1993</td>\n",
              "      <td>False</td>\n",
              "      <td>FIFA World Cup qualification</td>\n",
              "    </tr>\n",
              "  </tbody>\n",
              "</table>\n",
              "</div>"
            ],
            "text/plain": [
              "     away_team home_team  ...  neutral                    tournament\n",
              "0  Switzerland    Sweden  ...    False                      Friendly\n",
              "1    Argentina  Colombia  ...    False  FIFA World Cup qualification\n",
              "2    Argentina  Paraguay  ...    False  FIFA World Cup qualification\n",
              "3    Argentina      Peru  ...    False  FIFA World Cup qualification\n",
              "4       Brazil   Uruguay  ...    False  FIFA World Cup qualification\n",
              "\n",
              "[5 rows x 9 columns]"
            ]
          },
          "metadata": {
            "tags": []
          },
          "execution_count": 65
        }
      ]
    },
    {
      "cell_type": "markdown",
      "metadata": {
        "id": "fD9d_k9nn9ar",
        "colab_type": "text"
      },
      "source": [
        "Taking A look at our dataset "
      ]
    },
    {
      "cell_type": "code",
      "metadata": {
        "id": "WTqmPn-2jmXS",
        "colab_type": "code",
        "colab": {
          "base_uri": "https://localhost:8080/",
          "height": 328
        },
        "outputId": "1cea5d4d-e19c-45a8-de9b-9af184b9e0bd"
      },
      "source": [
        "sniff(fifa_ranking)"
      ],
      "execution_count": null,
      "outputs": [
        {
          "output_type": "execute_result",
          "data": {
            "text/html": [
              "<div>\n",
              "<style scoped>\n",
              "    .dataframe tbody tr th:only-of-type {\n",
              "        vertical-align: middle;\n",
              "    }\n",
              "\n",
              "    .dataframe tbody tr th {\n",
              "        vertical-align: top;\n",
              "    }\n",
              "\n",
              "    .dataframe thead th {\n",
              "        text-align: right;\n",
              "    }\n",
              "</style>\n",
              "<table border=\"1\" class=\"dataframe\">\n",
              "  <thead>\n",
              "    <tr style=\"text-align: right;\">\n",
              "      <th></th>\n",
              "      <th>sample</th>\n",
              "      <th>data type</th>\n",
              "      <th>percent duplicated</th>\n",
              "      <th>percent missing</th>\n",
              "    </tr>\n",
              "  </thead>\n",
              "  <tbody>\n",
              "    <tr>\n",
              "      <th>neutral</th>\n",
              "      <td>False</td>\n",
              "      <td>bool</td>\n",
              "      <td>0.319187</td>\n",
              "      <td>0.0</td>\n",
              "    </tr>\n",
              "    <tr>\n",
              "      <th>away_score</th>\n",
              "      <td>2</td>\n",
              "      <td>int64</td>\n",
              "      <td>0.319187</td>\n",
              "      <td>0.0</td>\n",
              "    </tr>\n",
              "    <tr>\n",
              "      <th>home_score</th>\n",
              "      <td>1</td>\n",
              "      <td>int64</td>\n",
              "      <td>0.319187</td>\n",
              "      <td>0.0</td>\n",
              "    </tr>\n",
              "    <tr>\n",
              "      <th>away_team_rank</th>\n",
              "      <td>3</td>\n",
              "      <td>int64</td>\n",
              "      <td>0.319187</td>\n",
              "      <td>0.0</td>\n",
              "    </tr>\n",
              "    <tr>\n",
              "      <th>home_team_rank</th>\n",
              "      <td>4</td>\n",
              "      <td>int64</td>\n",
              "      <td>0.319187</td>\n",
              "      <td>0.0</td>\n",
              "    </tr>\n",
              "    <tr>\n",
              "      <th>year</th>\n",
              "      <td>1993</td>\n",
              "      <td>int64</td>\n",
              "      <td>0.319187</td>\n",
              "      <td>0.0</td>\n",
              "    </tr>\n",
              "    <tr>\n",
              "      <th>away_team</th>\n",
              "      <td>Switzerland</td>\n",
              "      <td>object</td>\n",
              "      <td>0.319187</td>\n",
              "      <td>0.0</td>\n",
              "    </tr>\n",
              "    <tr>\n",
              "      <th>home_team</th>\n",
              "      <td>Sweden</td>\n",
              "      <td>object</td>\n",
              "      <td>0.319187</td>\n",
              "      <td>0.0</td>\n",
              "    </tr>\n",
              "    <tr>\n",
              "      <th>tournament</th>\n",
              "      <td>Friendly</td>\n",
              "      <td>object</td>\n",
              "      <td>0.319187</td>\n",
              "      <td>0.0</td>\n",
              "    </tr>\n",
              "  </tbody>\n",
              "</table>\n",
              "</div>"
            ],
            "text/plain": [
              "                     sample data type  percent duplicated  percent missing\n",
              "neutral               False      bool            0.319187              0.0\n",
              "away_score                2     int64            0.319187              0.0\n",
              "home_score                1     int64            0.319187              0.0\n",
              "away_team_rank            3     int64            0.319187              0.0\n",
              "home_team_rank            4     int64            0.319187              0.0\n",
              "year                   1993     int64            0.319187              0.0\n",
              "away_team       Switzerland    object            0.319187              0.0\n",
              "home_team            Sweden    object            0.319187              0.0\n",
              "tournament         Friendly    object            0.319187              0.0"
            ]
          },
          "metadata": {
            "tags": []
          },
          "execution_count": 66
        }
      ]
    },
    {
      "cell_type": "markdown",
      "metadata": {
        "id": "8p7vkwC6oND6",
        "colab_type": "text"
      },
      "source": [
        "from the above we can see that 0.319187 % of our values are duplicated "
      ]
    },
    {
      "cell_type": "code",
      "metadata": {
        "id": "OqArntr-oGNs",
        "colab_type": "code",
        "colab": {}
      },
      "source": [
        "fifa_ranking.drop_duplicates(inplace=True)"
      ],
      "execution_count": null,
      "outputs": []
    },
    {
      "cell_type": "code",
      "metadata": {
        "id": "N-SrlkBIooIL",
        "colab_type": "code",
        "colab": {
          "base_uri": "https://localhost:8080/",
          "height": 34
        },
        "outputId": "46611f80-9bde-4c42-b2a4-eff8bfef4773"
      },
      "source": [
        "fifa_ranking.shape"
      ],
      "execution_count": null,
      "outputs": [
        {
          "output_type": "execute_result",
          "data": {
            "text/plain": [
              "(16864, 9)"
            ]
          },
          "metadata": {
            "tags": []
          },
          "execution_count": 68
        }
      ]
    },
    {
      "cell_type": "markdown",
      "metadata": {
        "id": "5X1toR4yoyJM",
        "colab_type": "text"
      },
      "source": [
        "After droppng the duplicates we stillhave a solid 16864 entries \n",
        "\n",
        "Which is good"
      ]
    },
    {
      "cell_type": "code",
      "metadata": {
        "id": "l60ietj6osvb",
        "colab_type": "code",
        "colab": {
          "base_uri": "https://localhost:8080/",
          "height": 297
        },
        "outputId": "c7816e9a-5272-443c-996f-23d4f7800afc"
      },
      "source": [
        "fifa_ranking.describe()"
      ],
      "execution_count": null,
      "outputs": [
        {
          "output_type": "execute_result",
          "data": {
            "text/html": [
              "<div>\n",
              "<style scoped>\n",
              "    .dataframe tbody tr th:only-of-type {\n",
              "        vertical-align: middle;\n",
              "    }\n",
              "\n",
              "    .dataframe tbody tr th {\n",
              "        vertical-align: top;\n",
              "    }\n",
              "\n",
              "    .dataframe thead th {\n",
              "        text-align: right;\n",
              "    }\n",
              "</style>\n",
              "<table border=\"1\" class=\"dataframe\">\n",
              "  <thead>\n",
              "    <tr style=\"text-align: right;\">\n",
              "      <th></th>\n",
              "      <th>away_score</th>\n",
              "      <th>home_score</th>\n",
              "      <th>away_team_rank</th>\n",
              "      <th>home_team_rank</th>\n",
              "      <th>year</th>\n",
              "    </tr>\n",
              "  </thead>\n",
              "  <tbody>\n",
              "    <tr>\n",
              "      <th>count</th>\n",
              "      <td>16864.000000</td>\n",
              "      <td>16864.000000</td>\n",
              "      <td>16864.000000</td>\n",
              "      <td>16864.000000</td>\n",
              "      <td>16864.000000</td>\n",
              "    </tr>\n",
              "    <tr>\n",
              "      <th>mean</th>\n",
              "      <td>1.069616</td>\n",
              "      <td>1.604602</td>\n",
              "      <td>78.862014</td>\n",
              "      <td>76.029886</td>\n",
              "      <td>2006.498399</td>\n",
              "    </tr>\n",
              "    <tr>\n",
              "      <th>std</th>\n",
              "      <td>1.245909</td>\n",
              "      <td>1.615972</td>\n",
              "      <td>52.008990</td>\n",
              "      <td>50.853498</td>\n",
              "      <td>6.803753</td>\n",
              "    </tr>\n",
              "    <tr>\n",
              "      <th>min</th>\n",
              "      <td>0.000000</td>\n",
              "      <td>0.000000</td>\n",
              "      <td>1.000000</td>\n",
              "      <td>1.000000</td>\n",
              "      <td>1993.000000</td>\n",
              "    </tr>\n",
              "    <tr>\n",
              "      <th>25%</th>\n",
              "      <td>0.000000</td>\n",
              "      <td>0.000000</td>\n",
              "      <td>35.000000</td>\n",
              "      <td>33.000000</td>\n",
              "      <td>2001.000000</td>\n",
              "    </tr>\n",
              "    <tr>\n",
              "      <th>50%</th>\n",
              "      <td>1.000000</td>\n",
              "      <td>1.000000</td>\n",
              "      <td>72.000000</td>\n",
              "      <td>70.000000</td>\n",
              "      <td>2007.000000</td>\n",
              "    </tr>\n",
              "    <tr>\n",
              "      <th>75%</th>\n",
              "      <td>2.000000</td>\n",
              "      <td>2.000000</td>\n",
              "      <td>115.000000</td>\n",
              "      <td>112.000000</td>\n",
              "      <td>2012.000000</td>\n",
              "    </tr>\n",
              "    <tr>\n",
              "      <th>max</th>\n",
              "      <td>15.000000</td>\n",
              "      <td>31.000000</td>\n",
              "      <td>209.000000</td>\n",
              "      <td>209.000000</td>\n",
              "      <td>2018.000000</td>\n",
              "    </tr>\n",
              "  </tbody>\n",
              "</table>\n",
              "</div>"
            ],
            "text/plain": [
              "         away_score    home_score  away_team_rank  home_team_rank          year\n",
              "count  16864.000000  16864.000000    16864.000000    16864.000000  16864.000000\n",
              "mean       1.069616      1.604602       78.862014       76.029886   2006.498399\n",
              "std        1.245909      1.615972       52.008990       50.853498      6.803753\n",
              "min        0.000000      0.000000        1.000000        1.000000   1993.000000\n",
              "25%        0.000000      0.000000       35.000000       33.000000   2001.000000\n",
              "50%        1.000000      1.000000       72.000000       70.000000   2007.000000\n",
              "75%        2.000000      2.000000      115.000000      112.000000   2012.000000\n",
              "max       15.000000     31.000000      209.000000      209.000000   2018.000000"
            ]
          },
          "metadata": {
            "tags": []
          },
          "execution_count": 69
        }
      ]
    },
    {
      "cell_type": "code",
      "metadata": {
        "id": "DMr2P-uVpDoI",
        "colab_type": "code",
        "colab": {
          "base_uri": "https://localhost:8080/",
          "height": 80
        },
        "outputId": "a1657165-4576-42fd-90a2-8220aa597b11"
      },
      "source": [
        "fifa_ranking.head(1)"
      ],
      "execution_count": null,
      "outputs": [
        {
          "output_type": "execute_result",
          "data": {
            "text/html": [
              "<div>\n",
              "<style scoped>\n",
              "    .dataframe tbody tr th:only-of-type {\n",
              "        vertical-align: middle;\n",
              "    }\n",
              "\n",
              "    .dataframe tbody tr th {\n",
              "        vertical-align: top;\n",
              "    }\n",
              "\n",
              "    .dataframe thead th {\n",
              "        text-align: right;\n",
              "    }\n",
              "</style>\n",
              "<table border=\"1\" class=\"dataframe\">\n",
              "  <thead>\n",
              "    <tr style=\"text-align: right;\">\n",
              "      <th></th>\n",
              "      <th>away_team</th>\n",
              "      <th>home_team</th>\n",
              "      <th>away_score</th>\n",
              "      <th>home_score</th>\n",
              "      <th>away_team_rank</th>\n",
              "      <th>home_team_rank</th>\n",
              "      <th>year</th>\n",
              "      <th>neutral</th>\n",
              "      <th>tournament</th>\n",
              "    </tr>\n",
              "  </thead>\n",
              "  <tbody>\n",
              "    <tr>\n",
              "      <th>0</th>\n",
              "      <td>Switzerland</td>\n",
              "      <td>Sweden</td>\n",
              "      <td>2</td>\n",
              "      <td>1</td>\n",
              "      <td>3</td>\n",
              "      <td>4</td>\n",
              "      <td>1993</td>\n",
              "      <td>False</td>\n",
              "      <td>Friendly</td>\n",
              "    </tr>\n",
              "  </tbody>\n",
              "</table>\n",
              "</div>"
            ],
            "text/plain": [
              "     away_team home_team  away_score  ...  year  neutral  tournament\n",
              "0  Switzerland    Sweden           2  ...  1993    False    Friendly\n",
              "\n",
              "[1 rows x 9 columns]"
            ]
          },
          "metadata": {
            "tags": []
          },
          "execution_count": 70
        }
      ]
    },
    {
      "cell_type": "markdown",
      "metadata": {
        "id": "6Zj_OOw9GVEm",
        "colab_type": "text"
      },
      "source": [
        "#EXPLORATORY DATA ANALYSIS"
      ]
    },
    {
      "cell_type": "code",
      "metadata": {
        "id": "Zax-y8R9BrD3",
        "colab_type": "code",
        "colab": {
          "base_uri": "https://localhost:8080/",
          "height": 297
        },
        "outputId": "a4cbd39e-c47f-4fe7-fd06-053057a1967b"
      },
      "source": [
        "sns.countplot(fifa_ranking['tournament'])"
      ],
      "execution_count": null,
      "outputs": [
        {
          "output_type": "execute_result",
          "data": {
            "text/plain": [
              "<matplotlib.axes._subplots.AxesSubplot at 0x7fe6dfbaa438>"
            ]
          },
          "metadata": {
            "tags": []
          },
          "execution_count": 72
        },
        {
          "output_type": "display_data",
          "data": {
            "image/png": "[encoded data removed]",
            "text/plain": [
              "<Figure size 432x288 with 1 Axes>"
            ]
          },
          "metadata": {
            "tags": [],
            "needs_background": "light"
          }
        }
      ]
    },
    {
      "cell_type": "markdown",
      "metadata": {
        "id": "jTtr3HMeH6fd",
        "colab_type": "text"
      },
      "source": [
        "from the above we can see that we have  many types of tornaments \n",
        "\n",
        "lets see what they are "
      ]
    },
    {
      "cell_type": "code",
      "metadata": {
        "id": "cmQTGLQ7HsET",
        "colab_type": "code",
        "colab": {
          "base_uri": "https://localhost:8080/",
          "height": 442
        },
        "outputId": "f17854ff-6b98-4a80-f9ae-9400326916dc"
      },
      "source": [
        "fifa_ranking['tournament'].unique()"
      ],
      "execution_count": null,
      "outputs": [
        {
          "output_type": "execute_result",
          "data": {
            "text/plain": [
              "array(['Friendly', 'FIFA World Cup qualification',\n",
              "       'African Cup of Nations qualification', 'Amílcar Cabral Cup',\n",
              "       'United Arab Emirates Friendship Tournament',\n",
              "       'Malta International Tournament', 'African Cup of Nations',\n",
              "       'CFU Caribbean Cup qualification', 'CFU Caribbean Cup',\n",
              "       'UEFA Euro qualification', 'Kirin Cup', 'FIFA World Cup',\n",
              "       'Baltic Cup', 'Oceania Nations Cup qualification',\n",
              "       'Simba Tournament', 'Gulf Cup', 'CECAFA Cup', 'Dynasty Cup',\n",
              "       \"King's Cup\", 'SAFF Cup', 'Copa Paz del Chaco', 'USA Cup',\n",
              "       'Korea Cup', 'Copa América', 'Merdeka Tournament',\n",
              "       'South Pacific Games', 'UNCAF Cup', 'Oceania Nations Cup',\n",
              "       'Windward Islands Tournament', 'Gold Cup',\n",
              "       'AFC Asian Cup qualification', 'Lunar New Year Cup',\n",
              "       'AFF Championship', 'King Hassan II Tournament', 'AFC Asian Cup',\n",
              "       'Cyprus International Tournament', 'Dunhill Cup', 'Nehru Cup',\n",
              "       'COSAFA Cup', 'Tournoi de France', 'Confederations Cup',\n",
              "       'UAFA Cup', 'Gold Cup qualification', 'UNIFFAC Cup',\n",
              "       'Nordic Championship', 'WAFF Championship', 'UEFA Euro',\n",
              "       'Millennium Cup', \"Prime Minister's Cup\", 'SKN Football Festival',\n",
              "       'EAFF Championship', 'AFC Challenge Cup', 'Copa del Pacífico',\n",
              "       'UAFA Cup qualification', 'AFC Challenge Cup qualification',\n",
              "       'African Nations Championship', 'VFF Cup', 'Dragon Cup',\n",
              "       'Nile Basin Tournament', 'Nations Cup', 'Pacific Games',\n",
              "       'ABCS Tournament', 'OSN Cup', 'Copa América qualification',\n",
              "       'Intercontinental Cup'], dtype=object)"
            ]
          },
          "metadata": {
            "tags": []
          },
          "execution_count": 79
        }
      ]
    },
    {
      "cell_type": "markdown",
      "metadata": {
        "id": "30EWmcj4J1RJ",
        "colab_type": "text"
      },
      "source": [
        "Thats alot to deal with \n",
        "\n",
        "we are going to treat all the qualifiers and repective cups as one tournament"
      ]
    },
    {
      "cell_type": "code",
      "metadata": {
        "id": "NQd7IXbbILP7",
        "colab_type": "code",
        "colab": {
          "base_uri": "https://localhost:8080/",
          "height": 221
        },
        "outputId": "8c7f3ca2-e6a2-4269-ad29-ea67a3fc8fe6"
      },
      "source": [
        " fifa_ranking['tournament'].value_counts()"
      ],
      "execution_count": null,
      "outputs": [
        {
          "output_type": "execute_result",
          "data": {
            "text/plain": [
              "Friendly                                6408\n",
              "FIFA World Cup qualification            3950\n",
              "UEFA Euro qualification                 1383\n",
              "African Cup of Nations qualification     871\n",
              "AFC Asian Cup qualification              387\n",
              "                                        ... \n",
              "Copa del Pacífico                          4\n",
              "Dragon Cup                                 4\n",
              "OSN Cup                                    4\n",
              "SKN Football Festival                      2\n",
              "Copa América qualification                 2\n",
              "Name: tournament, Length: 65, dtype: int64"
            ]
          },
          "metadata": {
            "tags": []
          },
          "execution_count": 82
        }
      ]
    },
    {
      "cell_type": "markdown",
      "metadata": {
        "id": "X8BxNMTIQzH4",
        "colab_type": "text"
      },
      "source": [
        "I am going to run this cell several times while replacing the items in the column"
      ]
    },
    {
      "cell_type": "code",
      "metadata": {
        "id": "ZBDH582pKvWt",
        "colab_type": "code",
        "colab": {}
      },
      "source": [
        "def filter_b(column):\n",
        "     if  column == 'UAFA Cup qualification':\n",
        "          return 'UAFA Cup'\n",
        "     else:\n",
        "          return column"
      ],
      "execution_count": null,
      "outputs": []
    },
    {
      "cell_type": "code",
      "metadata": {
        "id": "fWEQ-whgRLHV",
        "colab_type": "code",
        "colab": {
          "base_uri": "https://localhost:8080/",
          "height": 119
        },
        "outputId": "1e3c2ac7-3e98-4c0a-c24b-1edfddfc125c"
      },
      "source": [
        "fifa_ranking['tournament']=fifa_ranking['tournament'].apply(filter_b)"
      ],
      "execution_count": null,
      "outputs": [
        {
          "output_type": "stream",
          "text": [
            "/usr/local/lib/python3.6/dist-packages/ipykernel_launcher.py:1: SettingWithCopyWarning: \n",
            "A value is trying to be set on a copy of a slice from a DataFrame.\n",
            "Try using .loc[row_indexer,col_indexer] = value instead\n",
            "\n",
            "See the caveats in the documentation: https://pandas.pydata.org/pandas-docs/stable/user_guide/indexing.html#returning-a-view-versus-a-copy\n",
            "  \"\"\"Entry point for launching an IPython kernel.\n"
          ],
          "name": "stderr"
        }
      ]
    },
    {
      "cell_type": "code",
      "metadata": {
        "id": "QXwD2HleRYR2",
        "colab_type": "code",
        "colab": {
          "base_uri": "https://localhost:8080/",
          "height": 969
        },
        "outputId": "73d080c0-7579-4c8e-e3d7-277a154c1a32"
      },
      "source": [
        "fifa_ranking['tournament'].value_counts()"
      ],
      "execution_count": null,
      "outputs": [
        {
          "output_type": "execute_result",
          "data": {
            "text/plain": [
              "Friendly                                      6408\n",
              "FIFA World Cup                                4113\n",
              "UEFA Euro                                     1554\n",
              "African Cup of Nations                        1149\n",
              "AFC Asian Cup                                  507\n",
              "CECAFA Cup                                     309\n",
              "CFU Caribbean Cup                              267\n",
              "Copa América                                   227\n",
              "COSAFA Cup                                     222\n",
              "Gold Cup                                       191\n",
              "African Nations Championship                   186\n",
              "AFF Championship                               178\n",
              "Gulf Cup                                       164\n",
              "UNCAF Cup                                      142\n",
              "AFC Challenge Cup                              122\n",
              "SAFF Cup                                       118\n",
              "Oceania Nations Cup                            113\n",
              "Confederations Cup                             112\n",
              "Cyprus International Tournament                 70\n",
              "WAFF Championship                               66\n",
              "Amílcar Cabral Cup                              58\n",
              "UAFA Cup                                        56\n",
              "King's Cup                                      49\n",
              "EAFF Championship                               47\n",
              "Kirin Cup                                       45\n",
              "Malta International Tournament                  37\n",
              "Baltic Cup                                      37\n",
              "South Pacific Games                             34\n",
              "Nehru Cup                                       31\n",
              "United Arab Emirates Friendship Tournament      21\n",
              "Merdeka Tournament                              21\n",
              "Pacific Games                                   19\n",
              "Prime Minister's Cup                            19\n",
              "Simba Tournament                                14\n",
              "Dunhill Cup                                     14\n",
              "Lunar New Year Cup                              13\n",
              "King Hassan II Tournament                       12\n",
              "Nile Basin Tournament                           10\n",
              "Millennium Cup                                  10\n",
              "UNIFFAC Cup                                     10\n",
              "Nordic Championship                             10\n",
              "USA Cup                                          8\n",
              "ABCS Tournament                                  8\n",
              "Korea Cup                                        7\n",
              "Dynasty Cup                                      7\n",
              "Intercontinental Cup                             7\n",
              "Tournoi de France                                6\n",
              "Windward Islands Tournament                      6\n",
              "Nations Cup                                      6\n",
              "Copa Paz del Chaco                               5\n",
              "VFF Cup                                          5\n",
              "Copa del Pacífico                                4\n",
              "Dragon Cup                                       4\n",
              "OSN Cup                                          4\n",
              "SKN Football Festival                            2\n",
              "Name: tournament, dtype: int64"
            ]
          },
          "metadata": {
            "tags": []
          },
          "execution_count": 115
        }
      ]
    },
    {
      "cell_type": "code",
      "metadata": {
        "id": "MbcnvtogRiFl",
        "colab_type": "code",
        "colab": {
          "base_uri": "https://localhost:8080/",
          "height": 34
        },
        "outputId": "6a825dad-4f1f-48c6-d3ca-666e8b711aec"
      },
      "source": [
        "len(fifa_ranking['tournament'].value_counts())"
      ],
      "execution_count": null,
      "outputs": [
        {
          "output_type": "execute_result",
          "data": {
            "text/plain": [
              "55"
            ]
          },
          "metadata": {
            "tags": []
          },
          "execution_count": 118
        }
      ]
    },
    {
      "cell_type": "markdown",
      "metadata": {
        "id": "XAJqE9pwXPQk",
        "colab_type": "text"
      },
      "source": [
        "After collapsing allthe qualifiers with their respective competitions we are left with 55 different competitions \n",
        "\n",
        "the highest number being friendlies followed by worldcup and then UEFA EURO then AFCON and then Asian Cup of Nations \n",
        "\n",
        "This is a good representation of the football space as those are the mahor football tournaments involving national teams across the globe."
      ]
    },
    {
      "cell_type": "code",
      "metadata": {
        "id": "szWgqus7Whbd",
        "colab_type": "code",
        "colab": {
          "base_uri": "https://localhost:8080/",
          "height": 296
        },
        "outputId": "1cd0596b-c728-4c50-8c41-8366d899cd1f"
      },
      "source": [
        "sns.countplot(fifa_ranking['neutral'])"
      ],
      "execution_count": null,
      "outputs": [
        {
          "output_type": "execute_result",
          "data": {
            "text/plain": [
              "<matplotlib.axes._subplots.AxesSubplot at 0x7fe6df1c9080>"
            ]
          },
          "metadata": {
            "tags": []
          },
          "execution_count": 119
        },
        {
          "output_type": "display_data",
          "data": {
            "image/png": "[encoded data removed]",
            "text/plain": [
              "<Figure size 432x288 with 1 Axes>"
            ]
          },
          "metadata": {
            "tags": [],
            "needs_background": "light"
          }
        }
      ]
    },
    {
      "cell_type": "markdown",
      "metadata": {
        "id": "pFEUkEQ9Yfr9",
        "colab_type": "text"
      },
      "source": [
        "from the above we can see that most matches were hosted matches . Matches played at neutral grounds were about 4000 a number close to the number of worldcup matches . But as we all know . World cup matches are always played in neutral grounds."
      ]
    },
    {
      "cell_type": "code",
      "metadata": {
        "id": "bTvQS84DZ7WV",
        "colab_type": "code",
        "colab": {
          "base_uri": "https://localhost:8080/",
          "height": 34
        },
        "outputId": "0f7e4684-953f-4af2-fac7-6969c44d1e77"
      },
      "source": [
        "fifa_ranking['away_score'].sum()"
      ],
      "execution_count": null,
      "outputs": [
        {
          "output_type": "execute_result",
          "data": {
            "text/plain": [
              "18038"
            ]
          },
          "metadata": {
            "tags": []
          },
          "execution_count": 124
        }
      ]
    },
    {
      "cell_type": "code",
      "metadata": {
        "id": "16wkXE4jaWjG",
        "colab_type": "code",
        "colab": {
          "base_uri": "https://localhost:8080/",
          "height": 34
        },
        "outputId": "893070c2-c396-4c80-f817-85845a1cbcf0"
      },
      "source": [
        "fifa_ranking['home_score'].sum()"
      ],
      "execution_count": null,
      "outputs": [
        {
          "output_type": "execute_result",
          "data": {
            "text/plain": [
              "27060"
            ]
          },
          "metadata": {
            "tags": []
          },
          "execution_count": 125
        }
      ]
    },
    {
      "cell_type": "markdown",
      "metadata": {
        "id": "Mn0nd0qdahLS",
        "colab_type": "text"
      },
      "source": [
        "we observe from the sum of goals \n",
        "\n",
        "home teams netted more goals than away teams in our dataset \n",
        "home teams had a totalof 27060 agains 18038 by away teams"
      ]
    },
    {
      "cell_type": "code",
      "metadata": {
        "id": "FjRFirLGacAm",
        "colab_type": "code",
        "colab": {}
      },
      "source": [
        ""
      ],
      "execution_count": null,
      "outputs": []
    },
    {
      "cell_type": "markdown",
      "metadata": {
        "id": "E4Ph3u1Zb27v",
        "colab_type": "text"
      },
      "source": [
        "# CATEGORICAL VARIABLES ENCODING  AND FEATURE ENGINEERING"
      ]
    },
    {
      "cell_type": "markdown",
      "metadata": {
        "id": "vqS4IjL4e9OP",
        "colab_type": "text"
      },
      "source": [
        "Before we do this we will write a copy of our dataset to Csv for safe Keeping ..... Just incase things Go South"
      ]
    },
    {
      "cell_type": "code",
      "metadata": {
        "id": "N5jWB-NPe7hY",
        "colab_type": "code",
        "colab": {}
      },
      "source": [
        "fifa_for_keep=fifa_ranking.to_csv('/content/drive/My Drive/Core Datasets/fifa_for_keep.csv')"
      ],
      "execution_count": null,
      "outputs": []
    },
    {
      "cell_type": "code",
      "metadata": {
        "id": "SsZfMz0dgGln",
        "colab_type": "code",
        "colab": {}
      },
      "source": [
        "fifa_ranking=pd.read_csv('/content/drive/My Drive/Core Datasets/fifa_for_keep.csv')"
      ],
      "execution_count": 5,
      "outputs": []
    },
    {
      "cell_type": "code",
      "metadata": {
        "id": "lrAuZLf0gG3z",
        "colab_type": "code",
        "colab": {}
      },
      "source": [
        "fifa_ranking.drop('Unnamed: 0',axis=1,inplace=True)"
      ],
      "execution_count": 6,
      "outputs": []
    },
    {
      "cell_type": "markdown",
      "metadata": {
        "id": "JNJXDY4gize-",
        "colab_type": "text"
      },
      "source": [
        "Getting the agregate goal\n",
        "\n",
        "\n",
        "\n",
        "In order to  which team won and which team lost  we are going to create a new column   with agregate score . away goals will be treated as negatives and home goals will be treated as positives"
      ]
    },
    {
      "cell_type": "code",
      "metadata": {
        "id": "tl7CfkNEfmA6",
        "colab_type": "code",
        "colab": {
          "base_uri": "https://localhost:8080/",
          "height": 221
        },
        "outputId": "ff8afdaa-6af5-4724-f81e-6e7b64234f0a"
      },
      "source": [
        "fifa_ranking[\"agg_goals\"] = fifa_ranking['home_score'] - fifa_ranking['away_score']\n",
        "fifa_ranking[\"agg_goals\"]"
      ],
      "execution_count": 7,
      "outputs": [
        {
          "output_type": "execute_result",
          "data": {
            "text/plain": [
              "0       -1\n",
              "1        1\n",
              "2       -2\n",
              "3       -1\n",
              "4        0\n",
              "        ..\n",
              "16859    0\n",
              "16860    0\n",
              "16861    6\n",
              "16862    0\n",
              "16863    0\n",
              "Name: agg_goals, Length: 16864, dtype: int64"
            ]
          },
          "metadata": {
            "tags": []
          },
          "execution_count": 7
        }
      ]
    },
    {
      "cell_type": "code",
      "metadata": {
        "id": "u_K5SewKjsRR",
        "colab_type": "code",
        "colab": {}
      },
      "source": [
        "home_results = []\n",
        "away_results =[]\n",
        "for agg_goals in fifa_ranking['agg_goals']:\n",
        "  if agg_goals > 0:\n",
        "    home_results.append(\"Win\")\n",
        "    away_results.append('Lose')\n",
        "  elif agg_goals < 0:\n",
        "    home_results.append(\"Lose\")\n",
        "    away_results.append('Win')\n",
        "  else:\n",
        "    home_results.append(\"Draw\")\n",
        "    away_results.append('Draw')  \n",
        "fifa_ranking['home_results'] = home_results\n",
        "fifa_ranking['away_results'] = away_results\n",
        "\n"
      ],
      "execution_count": 8,
      "outputs": []
    },
    {
      "cell_type": "code",
      "metadata": {
        "id": "DOxk4_3mlfMe",
        "colab_type": "code",
        "colab": {
          "base_uri": "https://localhost:8080/",
          "height": 204
        },
        "outputId": "d85fb81d-38f4-4c10-dcdc-ef1013b0b9c7"
      },
      "source": [
        "fifa_ranking.head()"
      ],
      "execution_count": 9,
      "outputs": [
        {
          "output_type": "execute_result",
          "data": {
            "text/html": [
              "<div>\n",
              "<style scoped>\n",
              "    .dataframe tbody tr th:only-of-type {\n",
              "        vertical-align: middle;\n",
              "    }\n",
              "\n",
              "    .dataframe tbody tr th {\n",
              "        vertical-align: top;\n",
              "    }\n",
              "\n",
              "    .dataframe thead th {\n",
              "        text-align: right;\n",
              "    }\n",
              "</style>\n",
              "<table border=\"1\" class=\"dataframe\">\n",
              "  <thead>\n",
              "    <tr style=\"text-align: right;\">\n",
              "      <th></th>\n",
              "      <th>away_team</th>\n",
              "      <th>home_team</th>\n",
              "      <th>away_score</th>\n",
              "      <th>home_score</th>\n",
              "      <th>away_team_rank</th>\n",
              "      <th>home_team_rank</th>\n",
              "      <th>year</th>\n",
              "      <th>neutral</th>\n",
              "      <th>tournament</th>\n",
              "      <th>agg_goals</th>\n",
              "      <th>home_results</th>\n",
              "      <th>away_results</th>\n",
              "    </tr>\n",
              "  </thead>\n",
              "  <tbody>\n",
              "    <tr>\n",
              "      <th>0</th>\n",
              "      <td>Switzerland</td>\n",
              "      <td>Sweden</td>\n",
              "      <td>2</td>\n",
              "      <td>1</td>\n",
              "      <td>3</td>\n",
              "      <td>4</td>\n",
              "      <td>1993</td>\n",
              "      <td>False</td>\n",
              "      <td>Friendly</td>\n",
              "      <td>-1</td>\n",
              "      <td>Lose</td>\n",
              "      <td>Win</td>\n",
              "    </tr>\n",
              "    <tr>\n",
              "      <th>1</th>\n",
              "      <td>Argentina</td>\n",
              "      <td>Colombia</td>\n",
              "      <td>1</td>\n",
              "      <td>2</td>\n",
              "      <td>5</td>\n",
              "      <td>19</td>\n",
              "      <td>1993</td>\n",
              "      <td>False</td>\n",
              "      <td>FIFA World Cup</td>\n",
              "      <td>1</td>\n",
              "      <td>Win</td>\n",
              "      <td>Lose</td>\n",
              "    </tr>\n",
              "    <tr>\n",
              "      <th>2</th>\n",
              "      <td>Argentina</td>\n",
              "      <td>Paraguay</td>\n",
              "      <td>3</td>\n",
              "      <td>1</td>\n",
              "      <td>5</td>\n",
              "      <td>67</td>\n",
              "      <td>1993</td>\n",
              "      <td>False</td>\n",
              "      <td>FIFA World Cup</td>\n",
              "      <td>-2</td>\n",
              "      <td>Lose</td>\n",
              "      <td>Win</td>\n",
              "    </tr>\n",
              "    <tr>\n",
              "      <th>3</th>\n",
              "      <td>Argentina</td>\n",
              "      <td>Peru</td>\n",
              "      <td>1</td>\n",
              "      <td>0</td>\n",
              "      <td>5</td>\n",
              "      <td>70</td>\n",
              "      <td>1993</td>\n",
              "      <td>False</td>\n",
              "      <td>FIFA World Cup</td>\n",
              "      <td>-1</td>\n",
              "      <td>Lose</td>\n",
              "      <td>Win</td>\n",
              "    </tr>\n",
              "    <tr>\n",
              "      <th>4</th>\n",
              "      <td>Brazil</td>\n",
              "      <td>Uruguay</td>\n",
              "      <td>1</td>\n",
              "      <td>1</td>\n",
              "      <td>8</td>\n",
              "      <td>22</td>\n",
              "      <td>1993</td>\n",
              "      <td>False</td>\n",
              "      <td>FIFA World Cup</td>\n",
              "      <td>0</td>\n",
              "      <td>Draw</td>\n",
              "      <td>Draw</td>\n",
              "    </tr>\n",
              "  </tbody>\n",
              "</table>\n",
              "</div>"
            ],
            "text/plain": [
              "     away_team home_team  away_score  ...  agg_goals  home_results  away_results\n",
              "0  Switzerland    Sweden           2  ...         -1          Lose           Win\n",
              "1    Argentina  Colombia           1  ...          1           Win          Lose\n",
              "2    Argentina  Paraguay           3  ...         -2          Lose           Win\n",
              "3    Argentina      Peru           1  ...         -1          Lose           Win\n",
              "4       Brazil   Uruguay           1  ...          0          Draw          Draw\n",
              "\n",
              "[5 rows x 12 columns]"
            ]
          },
          "metadata": {
            "tags": []
          },
          "execution_count": 9
        }
      ]
    },
    {
      "cell_type": "code",
      "metadata": {
        "id": "VcEcqKWklhIG",
        "colab_type": "code",
        "colab": {
          "base_uri": "https://localhost:8080/",
          "height": 221
        },
        "outputId": "d2dfb2ea-9ec3-4fe1-a658-1c0e949c19df"
      },
      "source": [
        "for feature in fifa_ranking.columns[:]:\n",
        "  print(feature,':', len(fifa_ranking[feature].unique()),'lebels')"
      ],
      "execution_count": 10,
      "outputs": [
        {
          "output_type": "stream",
          "text": [
            "away_team : 193 lebels\n",
            "home_team : 193 lebels\n",
            "away_score : 14 lebels\n",
            "home_score : 21 lebels\n",
            "away_team_rank : 209 lebels\n",
            "home_team_rank : 209 lebels\n",
            "year : 26 lebels\n",
            "neutral : 2 lebels\n",
            "tournament : 55 lebels\n",
            "agg_goals : 34 lebels\n",
            "home_results : 3 lebels\n",
            "away_results : 3 lebels\n"
          ],
          "name": "stdout"
        }
      ]
    },
    {
      "cell_type": "code",
      "metadata": {
        "id": "dsPM0uEUxDpg",
        "colab_type": "code",
        "colab": {}
      },
      "source": [
        "tournament_map= fifa_ranking['tournament'].value_counts().to_dict()"
      ],
      "execution_count": 11,
      "outputs": []
    },
    {
      "cell_type": "code",
      "metadata": {
        "id": "lYqnB5DOzwIL",
        "colab_type": "code",
        "colab": {
          "base_uri": "https://localhost:8080/",
          "height": 952
        },
        "outputId": "53c4cf8f-111f-42f1-e801-db68d56ab1af"
      },
      "source": [
        "tournament_map"
      ],
      "execution_count": 12,
      "outputs": [
        {
          "output_type": "execute_result",
          "data": {
            "text/plain": [
              "{'ABCS Tournament': 8,\n",
              " 'AFC Asian Cup': 507,\n",
              " 'AFC Challenge Cup': 122,\n",
              " 'AFF Championship': 178,\n",
              " 'African Cup of Nations': 1149,\n",
              " 'African Nations Championship': 186,\n",
              " 'Amílcar Cabral Cup': 58,\n",
              " 'Baltic Cup': 37,\n",
              " 'CECAFA Cup': 309,\n",
              " 'CFU Caribbean Cup': 267,\n",
              " 'COSAFA Cup': 222,\n",
              " 'Confederations Cup': 112,\n",
              " 'Copa América': 227,\n",
              " 'Copa Paz del Chaco': 5,\n",
              " 'Copa del Pacífico': 4,\n",
              " 'Cyprus International Tournament': 70,\n",
              " 'Dragon Cup': 4,\n",
              " 'Dunhill Cup': 14,\n",
              " 'Dynasty Cup': 7,\n",
              " 'EAFF Championship': 47,\n",
              " 'FIFA World Cup': 4113,\n",
              " 'Friendly': 6408,\n",
              " 'Gold Cup': 191,\n",
              " 'Gulf Cup': 164,\n",
              " 'Intercontinental Cup': 7,\n",
              " 'King Hassan II Tournament': 12,\n",
              " \"King's Cup\": 49,\n",
              " 'Kirin Cup': 45,\n",
              " 'Korea Cup': 7,\n",
              " 'Lunar New Year Cup': 13,\n",
              " 'Malta International Tournament': 37,\n",
              " 'Merdeka Tournament': 21,\n",
              " 'Millennium Cup': 10,\n",
              " 'Nations Cup': 6,\n",
              " 'Nehru Cup': 31,\n",
              " 'Nile Basin Tournament': 10,\n",
              " 'Nordic Championship': 10,\n",
              " 'OSN Cup': 4,\n",
              " 'Oceania Nations Cup': 113,\n",
              " 'Pacific Games': 19,\n",
              " \"Prime Minister's Cup\": 19,\n",
              " 'SAFF Cup': 118,\n",
              " 'SKN Football Festival': 2,\n",
              " 'Simba Tournament': 14,\n",
              " 'South Pacific Games': 34,\n",
              " 'Tournoi de France': 6,\n",
              " 'UAFA Cup': 56,\n",
              " 'UEFA Euro': 1554,\n",
              " 'UNCAF Cup': 142,\n",
              " 'UNIFFAC Cup': 10,\n",
              " 'USA Cup': 8,\n",
              " 'United Arab Emirates Friendship Tournament': 21,\n",
              " 'VFF Cup': 5,\n",
              " 'WAFF Championship': 66,\n",
              " 'Windward Islands Tournament': 6}"
            ]
          },
          "metadata": {
            "tags": []
          },
          "execution_count": 12
        }
      ]
    },
    {
      "cell_type": "code",
      "metadata": {
        "id": "dk7JuTdXzx-A",
        "colab_type": "code",
        "colab": {}
      },
      "source": [
        "fifa_ranking2=fifa_ranking.copy()"
      ],
      "execution_count": 13,
      "outputs": []
    },
    {
      "cell_type": "code",
      "metadata": {
        "id": "EnniAYQ80wsr",
        "colab_type": "code",
        "colab": {}
      },
      "source": [
        "fifa_ranking2['tournament']=fifa_ranking2['tournament'].map(tournament_map)"
      ],
      "execution_count": 14,
      "outputs": []
    },
    {
      "cell_type": "code",
      "metadata": {
        "id": "MpMV7mM40-If",
        "colab_type": "code",
        "colab": {
          "base_uri": "https://localhost:8080/",
          "height": 204
        },
        "outputId": "664a0af5-548a-4144-b56e-24b5e973e280"
      },
      "source": [
        "fifa_ranking2.head()"
      ],
      "execution_count": 15,
      "outputs": [
        {
          "output_type": "execute_result",
          "data": {
            "text/html": [
              "<div>\n",
              "<style scoped>\n",
              "    .dataframe tbody tr th:only-of-type {\n",
              "        vertical-align: middle;\n",
              "    }\n",
              "\n",
              "    .dataframe tbody tr th {\n",
              "        vertical-align: top;\n",
              "    }\n",
              "\n",
              "    .dataframe thead th {\n",
              "        text-align: right;\n",
              "    }\n",
              "</style>\n",
              "<table border=\"1\" class=\"dataframe\">\n",
              "  <thead>\n",
              "    <tr style=\"text-align: right;\">\n",
              "      <th></th>\n",
              "      <th>away_team</th>\n",
              "      <th>home_team</th>\n",
              "      <th>away_score</th>\n",
              "      <th>home_score</th>\n",
              "      <th>away_team_rank</th>\n",
              "      <th>home_team_rank</th>\n",
              "      <th>year</th>\n",
              "      <th>neutral</th>\n",
              "      <th>tournament</th>\n",
              "      <th>agg_goals</th>\n",
              "      <th>home_results</th>\n",
              "      <th>away_results</th>\n",
              "    </tr>\n",
              "  </thead>\n",
              "  <tbody>\n",
              "    <tr>\n",
              "      <th>0</th>\n",
              "      <td>Switzerland</td>\n",
              "      <td>Sweden</td>\n",
              "      <td>2</td>\n",
              "      <td>1</td>\n",
              "      <td>3</td>\n",
              "      <td>4</td>\n",
              "      <td>1993</td>\n",
              "      <td>False</td>\n",
              "      <td>6408</td>\n",
              "      <td>-1</td>\n",
              "      <td>Lose</td>\n",
              "      <td>Win</td>\n",
              "    </tr>\n",
              "    <tr>\n",
              "      <th>1</th>\n",
              "      <td>Argentina</td>\n",
              "      <td>Colombia</td>\n",
              "      <td>1</td>\n",
              "      <td>2</td>\n",
              "      <td>5</td>\n",
              "      <td>19</td>\n",
              "      <td>1993</td>\n",
              "      <td>False</td>\n",
              "      <td>4113</td>\n",
              "      <td>1</td>\n",
              "      <td>Win</td>\n",
              "      <td>Lose</td>\n",
              "    </tr>\n",
              "    <tr>\n",
              "      <th>2</th>\n",
              "      <td>Argentina</td>\n",
              "      <td>Paraguay</td>\n",
              "      <td>3</td>\n",
              "      <td>1</td>\n",
              "      <td>5</td>\n",
              "      <td>67</td>\n",
              "      <td>1993</td>\n",
              "      <td>False</td>\n",
              "      <td>4113</td>\n",
              "      <td>-2</td>\n",
              "      <td>Lose</td>\n",
              "      <td>Win</td>\n",
              "    </tr>\n",
              "    <tr>\n",
              "      <th>3</th>\n",
              "      <td>Argentina</td>\n",
              "      <td>Peru</td>\n",
              "      <td>1</td>\n",
              "      <td>0</td>\n",
              "      <td>5</td>\n",
              "      <td>70</td>\n",
              "      <td>1993</td>\n",
              "      <td>False</td>\n",
              "      <td>4113</td>\n",
              "      <td>-1</td>\n",
              "      <td>Lose</td>\n",
              "      <td>Win</td>\n",
              "    </tr>\n",
              "    <tr>\n",
              "      <th>4</th>\n",
              "      <td>Brazil</td>\n",
              "      <td>Uruguay</td>\n",
              "      <td>1</td>\n",
              "      <td>1</td>\n",
              "      <td>8</td>\n",
              "      <td>22</td>\n",
              "      <td>1993</td>\n",
              "      <td>False</td>\n",
              "      <td>4113</td>\n",
              "      <td>0</td>\n",
              "      <td>Draw</td>\n",
              "      <td>Draw</td>\n",
              "    </tr>\n",
              "  </tbody>\n",
              "</table>\n",
              "</div>"
            ],
            "text/plain": [
              "     away_team home_team  away_score  ...  agg_goals  home_results  away_results\n",
              "0  Switzerland    Sweden           2  ...         -1          Lose           Win\n",
              "1    Argentina  Colombia           1  ...          1           Win          Lose\n",
              "2    Argentina  Paraguay           3  ...         -2          Lose           Win\n",
              "3    Argentina      Peru           1  ...         -1          Lose           Win\n",
              "4       Brazil   Uruguay           1  ...          0          Draw          Draw\n",
              "\n",
              "[5 rows x 12 columns]"
            ]
          },
          "metadata": {
            "tags": []
          },
          "execution_count": 15
        }
      ]
    },
    {
      "cell_type": "code",
      "metadata": {
        "id": "GkD5W9zq1A0g",
        "colab_type": "code",
        "colab": {}
      },
      "source": [
        "fifa_ranking2['tournament']=fifa_ranking2['tournament'].astype('category')"
      ],
      "execution_count": 16,
      "outputs": []
    },
    {
      "cell_type": "code",
      "metadata": {
        "id": "Xv33xTzw1RJ2",
        "colab_type": "code",
        "colab": {
          "base_uri": "https://localhost:8080/",
          "height": 238
        },
        "outputId": "28520dce-fe9e-4633-e34c-d34516ed96b6"
      },
      "source": [
        "fifa_ranking2.dtypes"
      ],
      "execution_count": 17,
      "outputs": [
        {
          "output_type": "execute_result",
          "data": {
            "text/plain": [
              "away_team           object\n",
              "home_team           object\n",
              "away_score           int64\n",
              "home_score           int64\n",
              "away_team_rank       int64\n",
              "home_team_rank       int64\n",
              "year                 int64\n",
              "neutral               bool\n",
              "tournament        category\n",
              "agg_goals            int64\n",
              "home_results        object\n",
              "away_results        object\n",
              "dtype: object"
            ]
          },
          "metadata": {
            "tags": []
          },
          "execution_count": 17
        }
      ]
    },
    {
      "cell_type": "code",
      "metadata": {
        "id": "CGcEb0UF1UGP",
        "colab_type": "code",
        "colab": {}
      },
      "source": [
        "neutral_map=fifa_ranking2['neutral'].value_counts().to_dict()"
      ],
      "execution_count": 18,
      "outputs": []
    },
    {
      "cell_type": "code",
      "metadata": {
        "id": "FzASthOx2u9G",
        "colab_type": "code",
        "colab": {}
      },
      "source": [
        "fifa_ranking2['neutral']=fifa_ranking2['neutral'].map(neutral_map)"
      ],
      "execution_count": 19,
      "outputs": []
    },
    {
      "cell_type": "code",
      "metadata": {
        "id": "pGKZMyou3IP6",
        "colab_type": "code",
        "colab": {}
      },
      "source": [
        "fifa_ranking2['neutral']=fifa_ranking2['neutral'].astype('category')"
      ],
      "execution_count": 20,
      "outputs": []
    },
    {
      "cell_type": "markdown",
      "metadata": {
        "id": "d5mTFqS34PuN",
        "colab_type": "text"
      },
      "source": [
        "# MODELING"
      ]
    },
    {
      "cell_type": "markdown",
      "metadata": {
        "id": "mmAY8xci7Cnk",
        "colab_type": "text"
      },
      "source": [
        "Polynomial Regression Analysis"
      ]
    },
    {
      "cell_type": "markdown",
      "metadata": {
        "id": "RShnEbX98YSd",
        "colab_type": "text"
      },
      "source": [
        "predicting how many goals away team scores "
      ]
    },
    {
      "cell_type": "code",
      "metadata": {
        "id": "EFTJ6Po_3SdN",
        "colab_type": "code",
        "colab": {
          "base_uri": "https://localhost:8080/",
          "height": 235
        },
        "outputId": "8acb29e2-938e-428a-af93-b9dfb45c9c34"
      },
      "source": [
        "#cheking for multicollinearity\n",
        "correlation = fifa_ranking2.corr()\n",
        "correlation"
      ],
      "execution_count": 21,
      "outputs": [
        {
          "output_type": "execute_result",
          "data": {
            "text/html": [
              "<div>\n",
              "<style scoped>\n",
              "    .dataframe tbody tr th:only-of-type {\n",
              "        vertical-align: middle;\n",
              "    }\n",
              "\n",
              "    .dataframe tbody tr th {\n",
              "        vertical-align: top;\n",
              "    }\n",
              "\n",
              "    .dataframe thead th {\n",
              "        text-align: right;\n",
              "    }\n",
              "</style>\n",
              "<table border=\"1\" class=\"dataframe\">\n",
              "  <thead>\n",
              "    <tr style=\"text-align: right;\">\n",
              "      <th></th>\n",
              "      <th>away_score</th>\n",
              "      <th>home_score</th>\n",
              "      <th>away_team_rank</th>\n",
              "      <th>home_team_rank</th>\n",
              "      <th>year</th>\n",
              "      <th>agg_goals</th>\n",
              "    </tr>\n",
              "  </thead>\n",
              "  <tbody>\n",
              "    <tr>\n",
              "      <th>away_score</th>\n",
              "      <td>1.000000</td>\n",
              "      <td>-0.163729</td>\n",
              "      <td>-0.179898</td>\n",
              "      <td>0.221711</td>\n",
              "      <td>-0.008585</td>\n",
              "      <td>-0.687800</td>\n",
              "    </tr>\n",
              "    <tr>\n",
              "      <th>home_score</th>\n",
              "      <td>-0.163729</td>\n",
              "      <td>1.000000</td>\n",
              "      <td>0.318738</td>\n",
              "      <td>-0.135415</td>\n",
              "      <td>-0.038806</td>\n",
              "      <td>0.828718</td>\n",
              "    </tr>\n",
              "    <tr>\n",
              "      <th>away_team_rank</th>\n",
              "      <td>-0.179898</td>\n",
              "      <td>0.318738</td>\n",
              "      <td>1.000000</td>\n",
              "      <td>0.469472</td>\n",
              "      <td>0.106276</td>\n",
              "      <td>0.336598</td>\n",
              "    </tr>\n",
              "    <tr>\n",
              "      <th>home_team_rank</th>\n",
              "      <td>0.221711</td>\n",
              "      <td>-0.135415</td>\n",
              "      <td>0.469472</td>\n",
              "      <td>1.000000</td>\n",
              "      <td>0.104357</td>\n",
              "      <td>-0.225425</td>\n",
              "    </tr>\n",
              "    <tr>\n",
              "      <th>year</th>\n",
              "      <td>-0.008585</td>\n",
              "      <td>-0.038806</td>\n",
              "      <td>0.106276</td>\n",
              "      <td>0.104357</td>\n",
              "      <td>1.000000</td>\n",
              "      <td>-0.023684</td>\n",
              "    </tr>\n",
              "    <tr>\n",
              "      <th>agg_goals</th>\n",
              "      <td>-0.687800</td>\n",
              "      <td>0.828718</td>\n",
              "      <td>0.336598</td>\n",
              "      <td>-0.225425</td>\n",
              "      <td>-0.023684</td>\n",
              "      <td>1.000000</td>\n",
              "    </tr>\n",
              "  </tbody>\n",
              "</table>\n",
              "</div>"
            ],
            "text/plain": [
              "                away_score  home_score  ...      year  agg_goals\n",
              "away_score        1.000000   -0.163729  ... -0.008585  -0.687800\n",
              "home_score       -0.163729    1.000000  ... -0.038806   0.828718\n",
              "away_team_rank   -0.179898    0.318738  ...  0.106276   0.336598\n",
              "home_team_rank    0.221711   -0.135415  ...  0.104357  -0.225425\n",
              "year             -0.008585   -0.038806  ...  1.000000  -0.023684\n",
              "agg_goals        -0.687800    0.828718  ... -0.023684   1.000000\n",
              "\n",
              "[6 rows x 6 columns]"
            ]
          },
          "metadata": {
            "tags": []
          },
          "execution_count": 21
        }
      ]
    },
    {
      "cell_type": "markdown",
      "metadata": {
        "id": "FbfYgVg8-Y7q",
        "colab_type": "text"
      },
      "source": [
        "There is a strong corellation between away score home score and the agg goals .... this is expected as that column was calculated from the two \n",
        "\n"
      ]
    },
    {
      "cell_type": "code",
      "metadata": {
        "id": "Kee6h6Kt-S45",
        "colab_type": "code",
        "colab": {}
      },
      "source": [
        "VIF=pd.DataFrame(np.linalg.inv(correlation.values), index = correlation.index, columns=correlation.columns)\n"
      ],
      "execution_count": 22,
      "outputs": []
    },
    {
      "cell_type": "code",
      "metadata": {
        "id": "mGvXqEwB_OKW",
        "colab_type": "code",
        "colab": {
          "base_uri": "https://localhost:8080/",
          "height": 235
        },
        "outputId": "5c06b180-4ef9-4bea-ee87-58445d383b60"
      },
      "source": [
        "VIF"
      ],
      "execution_count": 23,
      "outputs": [
        {
          "output_type": "execute_result",
          "data": {
            "text/html": [
              "<div>\n",
              "<style scoped>\n",
              "    .dataframe tbody tr th:only-of-type {\n",
              "        vertical-align: middle;\n",
              "    }\n",
              "\n",
              "    .dataframe tbody tr th {\n",
              "        vertical-align: top;\n",
              "    }\n",
              "\n",
              "    .dataframe thead th {\n",
              "        text-align: right;\n",
              "    }\n",
              "</style>\n",
              "<table border=\"1\" class=\"dataframe\">\n",
              "  <thead>\n",
              "    <tr style=\"text-align: right;\">\n",
              "      <th></th>\n",
              "      <th>away_score</th>\n",
              "      <th>home_score</th>\n",
              "      <th>away_team_rank</th>\n",
              "      <th>home_team_rank</th>\n",
              "      <th>year</th>\n",
              "      <th>agg_goals</th>\n",
              "    </tr>\n",
              "  </thead>\n",
              "  <tbody>\n",
              "    <tr>\n",
              "      <th>away_score</th>\n",
              "      <td>6.315933e+12</td>\n",
              "      <td>-8.191907e+12</td>\n",
              "      <td>0.273759</td>\n",
              "      <td>-0.358542</td>\n",
              "      <td>0.033906</td>\n",
              "      <td>1.113287e+13</td>\n",
              "    </tr>\n",
              "    <tr>\n",
              "      <th>home_score</th>\n",
              "      <td>-8.191907e+12</td>\n",
              "      <td>1.062509e+13</td>\n",
              "      <td>-0.421290</td>\n",
              "      <td>0.319418</td>\n",
              "      <td>0.040001</td>\n",
              "      <td>-1.443959e+13</td>\n",
              "    </tr>\n",
              "    <tr>\n",
              "      <th>away_team_rank</th>\n",
              "      <td>2.737587e-01</td>\n",
              "      <td>-4.212900e-01</td>\n",
              "      <td>1.755595</td>\n",
              "      <td>-0.994292</td>\n",
              "      <td>-0.103448</td>\n",
              "      <td>-2.800956e-01</td>\n",
              "    </tr>\n",
              "    <tr>\n",
              "      <th>home_team_rank</th>\n",
              "      <td>-3.585421e-01</td>\n",
              "      <td>3.194176e-01</td>\n",
              "      <td>-0.994292</td>\n",
              "      <td>1.638052</td>\n",
              "      <td>-0.051422</td>\n",
              "      <td>1.914035e-01</td>\n",
              "    </tr>\n",
              "    <tr>\n",
              "      <th>year</th>\n",
              "      <td>3.390570e-02</td>\n",
              "      <td>4.000068e-02</td>\n",
              "      <td>-0.103448</td>\n",
              "      <td>-0.051422</td>\n",
              "      <td>1.019093</td>\n",
              "      <td>3.753602e-02</td>\n",
              "    </tr>\n",
              "    <tr>\n",
              "      <th>agg_goals</th>\n",
              "      <td>1.113287e+13</td>\n",
              "      <td>-1.443959e+13</td>\n",
              "      <td>-0.280096</td>\n",
              "      <td>0.191404</td>\n",
              "      <td>0.037536</td>\n",
              "      <td>1.962353e+13</td>\n",
              "    </tr>\n",
              "  </tbody>\n",
              "</table>\n",
              "</div>"
            ],
            "text/plain": [
              "                  away_score    home_score  ...      year     agg_goals\n",
              "away_score      6.315933e+12 -8.191907e+12  ...  0.033906  1.113287e+13\n",
              "home_score     -8.191907e+12  1.062509e+13  ...  0.040001 -1.443959e+13\n",
              "away_team_rank  2.737587e-01 -4.212900e-01  ... -0.103448 -2.800956e-01\n",
              "home_team_rank -3.585421e-01  3.194176e-01  ... -0.051422  1.914035e-01\n",
              "year            3.390570e-02  4.000068e-02  ...  1.019093  3.753602e-02\n",
              "agg_goals       1.113287e+13 -1.443959e+13  ...  0.037536  1.962353e+13\n",
              "\n",
              "[6 rows x 6 columns]"
            ]
          },
          "metadata": {
            "tags": []
          },
          "execution_count": 23
        }
      ]
    },
    {
      "cell_type": "code",
      "metadata": {
        "id": "lLV7ETzH2i-Q",
        "colab_type": "code",
        "colab": {}
      },
      "source": [
        "y=fifa_ranking2['home_score'].values\n",
        "X= fifa_ranking2[['home_team_rank','away_team_rank','tournament','neutral']].values"
      ],
      "execution_count": 24,
      "outputs": []
    },
    {
      "cell_type": "markdown",
      "metadata": {
        "id": "XskASt_l_k3z",
        "colab_type": "text"
      },
      "source": [
        "VIF scores are read along the diagonal  and is straight foward . home team rank hasa VIF of 1.638052  "
      ]
    },
    {
      "cell_type": "code",
      "metadata": {
        "id": "gvVv6iMTPtl3",
        "colab_type": "code",
        "colab": {}
      },
      "source": [
        "#Import libaries\n",
        "import numpy as np\n",
        "import pandas as pd\n",
        "from sklearn import metrics\n",
        "import matplotlib.pyplot as plt\n",
        "from sklearn.metrics import mean_squared_error, r2_score\n",
        "\n",
        "from sklearn.preprocessing import PolynomialFeatures\n",
        "\n",
        "from sklearn.model_selection import train_test_split\n",
        "\n",
        "# Import LinearRegression method from sklearn linear_model library\n",
        "from sklearn.linear_model import LinearRegression"
      ],
      "execution_count": 26,
      "outputs": []
    },
    {
      "cell_type": "code",
      "metadata": {
        "id": "OUYbyhDmQXX6",
        "colab_type": "code",
        "colab": {}
      },
      "source": [
        "# Split the dataset into train and test sets\n",
        "X_train, Y_train, X_test, Y_test = train_test_split(X,y, test_size = 0.2, random_state=0)\n",
        "\n"
      ],
      "execution_count": 27,
      "outputs": []
    },
    {
      "cell_type": "code",
      "metadata": {
        "id": "Hd_jPVA0RsOl",
        "colab_type": "code",
        "colab": {
          "base_uri": "https://localhost:8080/",
          "height": 34
        },
        "outputId": "5c89a12a-f39e-4247-9d00-dcab032d45cc"
      },
      "source": [
        "# Fit polynomial Regression to the dataset\n",
        "poly_reg = PolynomialFeatures(degree = 4) \n",
        "X_poly = poly_reg.fit_transform(X)\n",
        "\n",
        "\n",
        "pol_reg = LinearRegression()\n",
        "pol_reg.fit(X_poly, y)"
      ],
      "execution_count": 28,
      "outputs": [
        {
          "output_type": "execute_result",
          "data": {
            "text/plain": [
              "LinearRegression(copy_X=True, fit_intercept=True, n_jobs=None, normalize=False)"
            ]
          },
          "metadata": {
            "tags": []
          },
          "execution_count": 28
        }
      ]
    },
    {
      "cell_type": "code",
      "metadata": {
        "id": "AywkHD1nct2F",
        "colab_type": "code",
        "colab": {
          "base_uri": "https://localhost:8080/",
          "height": 51
        },
        "outputId": "e62f49b4-7986-43af-8284-4dc20aee8408"
      },
      "source": [
        "# Predict using Polynomial Regression\n",
        "\n",
        "# Predict using Polynomial Regression \n",
        "\n",
        "#match between  colombia and argentina  which was not played at a neutral ground \n",
        "poly_pred = pol_reg.predict(poly_reg.fit_transform([[19, 5, 4113,12883]]))\n",
        "print('Polynomial prediction: %d' %poly_pred)\n",
        "\n",
        "poly_pred = pol_reg.predict(poly_reg.fit_transform([[4, 3, 6408,12883]]))\n",
        "print('Polynomial prediction: %d' %poly_pred)\n"
      ],
      "execution_count": 29,
      "outputs": [
        {
          "output_type": "stream",
          "text": [
            "Polynomial prediction: 1\n",
            "Polynomial prediction: 1\n"
          ],
          "name": "stdout"
        }
      ]
    },
    {
      "cell_type": "markdown",
      "metadata": {
        "id": "Tn4IXm05ebvA",
        "colab_type": "text"
      },
      "source": [
        "The above was trying to predict the scores of the matches below and  as we can see our model gets  one correctly and misses the other"
      ]
    },
    {
      "cell_type": "code",
      "metadata": {
        "id": "0kY5Em7V0U_H",
        "colab_type": "code",
        "colab": {}
      },
      "source": [
        "y_new=pol_reg.predict(X_poly)"
      ],
      "execution_count": 31,
      "outputs": []
    },
    {
      "cell_type": "code",
      "metadata": {
        "id": "rUA3nhh80Tl2",
        "colab_type": "code",
        "colab": {
          "base_uri": "https://localhost:8080/",
          "height": 51
        },
        "outputId": "177b41b4-066f-4054-e508-afd5773a626b"
      },
      "source": [
        "rmse = np.sqrt(mean_squared_error(y,y_new))\n",
        "r2 = r2_score(y,y_new)\n",
        "\n",
        "print('RMSE: ', rmse)\n",
        "print('R2: ', r2)"
      ],
      "execution_count": 32,
      "outputs": [
        {
          "output_type": "stream",
          "text": [
            "RMSE:  1.399688687863321\n",
            "R2:  0.24972455093305046\n"
          ],
          "name": "stdout"
        }
      ]
    },
    {
      "cell_type": "code",
      "metadata": {
        "id": "y8FU5WnVY4za",
        "colab_type": "code",
        "colab": {
          "base_uri": "https://localhost:8080/",
          "height": 111
        },
        "outputId": "17e8c5b1-265d-48be-8739-1bbc73279c66"
      },
      "source": [
        "fifa_ranking2.head(2)"
      ],
      "execution_count": 33,
      "outputs": [
        {
          "output_type": "execute_result",
          "data": {
            "text/html": [
              "<div>\n",
              "<style scoped>\n",
              "    .dataframe tbody tr th:only-of-type {\n",
              "        vertical-align: middle;\n",
              "    }\n",
              "\n",
              "    .dataframe tbody tr th {\n",
              "        vertical-align: top;\n",
              "    }\n",
              "\n",
              "    .dataframe thead th {\n",
              "        text-align: right;\n",
              "    }\n",
              "</style>\n",
              "<table border=\"1\" class=\"dataframe\">\n",
              "  <thead>\n",
              "    <tr style=\"text-align: right;\">\n",
              "      <th></th>\n",
              "      <th>away_team</th>\n",
              "      <th>home_team</th>\n",
              "      <th>away_score</th>\n",
              "      <th>home_score</th>\n",
              "      <th>away_team_rank</th>\n",
              "      <th>home_team_rank</th>\n",
              "      <th>year</th>\n",
              "      <th>neutral</th>\n",
              "      <th>tournament</th>\n",
              "      <th>agg_goals</th>\n",
              "      <th>home_results</th>\n",
              "      <th>away_results</th>\n",
              "    </tr>\n",
              "  </thead>\n",
              "  <tbody>\n",
              "    <tr>\n",
              "      <th>0</th>\n",
              "      <td>Switzerland</td>\n",
              "      <td>Sweden</td>\n",
              "      <td>2</td>\n",
              "      <td>1</td>\n",
              "      <td>3</td>\n",
              "      <td>4</td>\n",
              "      <td>1993</td>\n",
              "      <td>12883</td>\n",
              "      <td>6408</td>\n",
              "      <td>-1</td>\n",
              "      <td>Lose</td>\n",
              "      <td>Win</td>\n",
              "    </tr>\n",
              "    <tr>\n",
              "      <th>1</th>\n",
              "      <td>Argentina</td>\n",
              "      <td>Colombia</td>\n",
              "      <td>1</td>\n",
              "      <td>2</td>\n",
              "      <td>5</td>\n",
              "      <td>19</td>\n",
              "      <td>1993</td>\n",
              "      <td>12883</td>\n",
              "      <td>4113</td>\n",
              "      <td>1</td>\n",
              "      <td>Win</td>\n",
              "      <td>Lose</td>\n",
              "    </tr>\n",
              "  </tbody>\n",
              "</table>\n",
              "</div>"
            ],
            "text/plain": [
              "     away_team home_team  away_score  ...  agg_goals  home_results  away_results\n",
              "0  Switzerland    Sweden           2  ...         -1          Lose           Win\n",
              "1    Argentina  Colombia           1  ...          1           Win          Lose\n",
              "\n",
              "[2 rows x 12 columns]"
            ]
          },
          "metadata": {
            "tags": []
          },
          "execution_count": 33
        }
      ]
    },
    {
      "cell_type": "markdown",
      "metadata": {
        "id": "1Z-aZnFFfaCy",
        "colab_type": "text"
      },
      "source": [
        "Predicting away score "
      ]
    },
    {
      "cell_type": "code",
      "metadata": {
        "id": "yKkT6Ftvat71",
        "colab_type": "code",
        "colab": {}
      },
      "source": [
        "y=fifa_ranking2['away_score'].values\n",
        "\n",
        "X= fifa_ranking2[['home_team_rank','away_team_rank','tournament','neutral']].values"
      ],
      "execution_count": 34,
      "outputs": []
    },
    {
      "cell_type": "code",
      "metadata": {
        "id": "Y-oR0ROffj7V",
        "colab_type": "code",
        "colab": {}
      },
      "source": [
        "# Split the dataset into train and test sets\n",
        "X_train, y_train, X_test, y_test = train_test_split(X,y, test_size = 0.2, random_state=0)\n"
      ],
      "execution_count": 35,
      "outputs": []
    },
    {
      "cell_type": "code",
      "metadata": {
        "id": "ogWXq5yihEQ_",
        "colab_type": "code",
        "colab": {
          "base_uri": "https://localhost:8080/",
          "height": 34
        },
        "outputId": "872b712e-1a2c-4fa5-d144-d7cdf2ede371"
      },
      "source": [
        "# Fit polynomial Regression to the dataset\n",
        "poly_reg = PolynomialFeatures(degree = 4) \n",
        "X_poly = poly_reg.fit_transform(X)\n",
        "\n",
        "\n",
        "pol_reg = LinearRegression()\n",
        "pol_reg.fit(X_poly, y)"
      ],
      "execution_count": 36,
      "outputs": [
        {
          "output_type": "execute_result",
          "data": {
            "text/plain": [
              "LinearRegression(copy_X=True, fit_intercept=True, n_jobs=None, normalize=False)"
            ]
          },
          "metadata": {
            "tags": []
          },
          "execution_count": 36
        }
      ]
    },
    {
      "cell_type": "code",
      "metadata": {
        "id": "bhAownAVhI7O",
        "colab_type": "code",
        "colab": {
          "base_uri": "https://localhost:8080/",
          "height": 51
        },
        "outputId": "1921d3a9-36e6-4f88-c792-358de0d90226"
      },
      "source": [
        "#match between  colombia and argentina  which was not played at a neutral ground \n",
        "poly_pred = pol_reg.predict(poly_reg.fit_transform([[19, 5, 4113,12883]]))\n",
        "print('Polynomial prediction: %d' %poly_pred)\n",
        "\n",
        "poly_pred = pol_reg.predict(poly_reg.fit_transform([[4, 3, 6408,12883]]))\n",
        "print('Polynomial prediction: %d' %poly_pred)\n"
      ],
      "execution_count": 37,
      "outputs": [
        {
          "output_type": "stream",
          "text": [
            "Polynomial prediction: 1\n",
            "Polynomial prediction: 1\n"
          ],
          "name": "stdout"
        }
      ]
    },
    {
      "cell_type": "code",
      "metadata": {
        "id": "9HzLNxlswdzn",
        "colab_type": "code",
        "colab": {}
      },
      "source": [
        "y_new=pol_reg.predict(X_poly)"
      ],
      "execution_count": 38,
      "outputs": []
    },
    {
      "cell_type": "code",
      "metadata": {
        "id": "v1GDbPk1w3Uw",
        "colab_type": "code",
        "colab": {
          "base_uri": "https://localhost:8080/",
          "height": 51
        },
        "outputId": "905dafaf-b603-43e1-b261-66b667729f47"
      },
      "source": [
        "rmse = np.sqrt(mean_squared_error(y,y_new))\n",
        "r2 = r2_score(y,y_new)\n",
        "\n",
        "print('RMSE: ', rmse)\n",
        "print('R2: ', r2)"
      ],
      "execution_count": 39,
      "outputs": [
        {
          "output_type": "stream",
          "text": [
            "RMSE:  1.1081552817862244\n",
            "R2:  0.20885870287603092\n"
          ],
          "name": "stdout"
        }
      ]
    },
    {
      "cell_type": "markdown",
      "metadata": {
        "id": "sFxLuGVs4pq5",
        "colab_type": "text"
      },
      "source": [
        "We have a very poor model here \n",
        "\n",
        "\n",
        "but now lets go ahead and Cross Validate it"
      ]
    },
    {
      "cell_type": "markdown",
      "metadata": {
        "id": "Lo5MP-fv7J0T",
        "colab_type": "text"
      },
      "source": [
        "Since the two models have pretty much the same score ... we are going to just do a cross validation on one \n",
        "\n",
        "\n",
        "\n",
        "we will use Kfolds for this"
      ]
    },
    {
      "cell_type": "code",
      "metadata": {
        "id": "-_3cl_xk4z2P",
        "colab_type": "code",
        "colab": {
          "base_uri": "https://localhost:8080/",
          "height": 289
        },
        "outputId": "a687e737-4179-4ade-9a88-69b5773908f4"
      },
      "source": [
        "from sklearn.model_selection import KFold\n",
        "\n",
        "y=fifa_ranking2['away_score'].values\n",
        "\n",
        "X= fifa_ranking2[['home_team_rank','away_team_rank','tournament','neutral']].values\n",
        "\n",
        "\n",
        "\n",
        "\n",
        "folds = KFold(n_splits=5)\n",
        "\n",
        "# note that if you have a KFold object, you can figure out how many folds you set up \n",
        "# for it using get_n_splits\n",
        "print('we are using ' +str(folds.get_n_splits(X)) + ' folds')\n",
        "\n",
        "# We now create and assess 5 models based on the folds we created.\n",
        "RMSES = [] # We will use this array to keep track of the RSME of each model\n",
        "count = 1 # This will just help \n",
        "for train_index, test_index in folds.split(X):\n",
        "  print('\\nTraining model ' + str(count))\n",
        "  \n",
        "  # set up the train and test based on the split determined by KFold\n",
        "  # With 5 folds, we will end up with 80% of our data in the training set, and 20% in the test set, just as above\n",
        "  X_train, X_test = X[train_index], X[test_index]\n",
        "  y_train, y_test = y[train_index], y[test_index]\n",
        "  \n",
        "  # fit a model accordingly\n",
        "  regressor = LinearRegression()  \n",
        "  regressor.fit(X_train, y_train)\n",
        "  \n",
        "  # assess the accuraccy of the model\n",
        "  y_pred = regressor.predict(X_test)\n",
        "  \n",
        "  rmse_value =  np.sqrt(metrics.mean_squared_error(y_test, y_pred))\n",
        "  RMSES.append(rmse_value)\n",
        "  \n",
        "  print('Model ' + str(count) + ' Root Mean Squared Error:',rmse_value)\n",
        "  count = count + 1\n",
        "\n",
        "  "
      ],
      "execution_count": 42,
      "outputs": [
        {
          "output_type": "stream",
          "text": [
            "we are using 5 folds\n",
            "\n",
            "Training model 1\n",
            "Model 1 Root Mean Squared Error: 1.1457811635198116\n",
            "\n",
            "Training model 2\n",
            "Model 2 Root Mean Squared Error: 1.1697342304375942\n",
            "\n",
            "Training model 3\n",
            "Model 3 Root Mean Squared Error: 1.1712537568626336\n",
            "\n",
            "Training model 4\n",
            "Model 4 Root Mean Squared Error: 1.1200284323478438\n",
            "\n",
            "Training model 5\n",
            "Model 5 Root Mean Squared Error: 1.0945035126352036\n"
          ],
          "name": "stdout"
        }
      ]
    },
    {
      "cell_type": "code",
      "metadata": {
        "id": "KabjPDcmC_9V",
        "colab_type": "code",
        "colab": {
          "base_uri": "https://localhost:8080/",
          "height": 51
        },
        "outputId": "54ab411c-b84c-46f8-8d26-f793573602a8"
      },
      "source": [
        " print(f'\\nThe mean of the above rmses is {np.mean(RMSES)}')"
      ],
      "execution_count": 43,
      "outputs": [
        {
          "output_type": "stream",
          "text": [
            "\n",
            "The mean of the above rmses is 1.1402602191606175\n"
          ],
          "name": "stdout"
        }
      ]
    },
    {
      "cell_type": "markdown",
      "metadata": {
        "id": "tmW7WdG2EYoj",
        "colab_type": "text"
      },
      "source": [
        "From cross validation we find that our second model did well than.... we had an accuracy that was greater than our mean cross validation accuracy"
      ]
    },
    {
      "cell_type": "markdown",
      "metadata": {
        "id": "ywA_E-KM7Hzj",
        "colab_type": "text"
      },
      "source": [
        "Logistic Regression"
      ]
    },
    {
      "cell_type": "code",
      "metadata": {
        "id": "fSl981dO7Ljk",
        "colab_type": "code",
        "colab": {}
      },
      "source": [
        ""
      ],
      "execution_count": 40,
      "outputs": []
    }
  ]
}